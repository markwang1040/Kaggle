{
 "cells": [
  {
   "cell_type": "markdown",
   "metadata": {},
   "source": [
    "# House Price"
   ]
  },
  {
   "cell_type": "markdown",
   "metadata": {},
   "source": [
    "### 1. Import Modules and Load Data"
   ]
  },
  {
   "cell_type": "code",
   "execution_count": 1,
   "metadata": {},
   "outputs": [],
   "source": [
    "import pandas as pd\n",
    "import numpy as np\n",
    "import matplotlib.pyplot as plt\n",
    "import seaborn as sns\n",
    "from sklearn.preprocessing import StandardScaler\n",
    "std = StandardScaler()\n",
    "from sklearn.preprocessing import LabelEncoder\n",
    "le = LabelEncoder()"
   ]
  },
  {
   "cell_type": "code",
   "execution_count": 2,
   "metadata": {},
   "outputs": [],
   "source": [
    "train = pd.read_csv('train_houseprice.csv')\n",
    "test = pd.read_csv('test_houseprice.csv')"
   ]
  },
  {
   "cell_type": "code",
   "execution_count": 3,
   "metadata": {},
   "outputs": [
    {
     "data": {
      "text/html": [
       "<div>\n",
       "<style scoped>\n",
       "    .dataframe tbody tr th:only-of-type {\n",
       "        vertical-align: middle;\n",
       "    }\n",
       "\n",
       "    .dataframe tbody tr th {\n",
       "        vertical-align: top;\n",
       "    }\n",
       "\n",
       "    .dataframe thead th {\n",
       "        text-align: right;\n",
       "    }\n",
       "</style>\n",
       "<table border=\"1\" class=\"dataframe\">\n",
       "  <thead>\n",
       "    <tr style=\"text-align: right;\">\n",
       "      <th></th>\n",
       "      <th>Id</th>\n",
       "      <th>MSSubClass</th>\n",
       "      <th>MSZoning</th>\n",
       "      <th>LotFrontage</th>\n",
       "      <th>LotArea</th>\n",
       "      <th>Street</th>\n",
       "      <th>Alley</th>\n",
       "      <th>LotShape</th>\n",
       "      <th>LandContour</th>\n",
       "      <th>Utilities</th>\n",
       "      <th>...</th>\n",
       "      <th>PoolArea</th>\n",
       "      <th>PoolQC</th>\n",
       "      <th>Fence</th>\n",
       "      <th>MiscFeature</th>\n",
       "      <th>MiscVal</th>\n",
       "      <th>MoSold</th>\n",
       "      <th>YrSold</th>\n",
       "      <th>SaleType</th>\n",
       "      <th>SaleCondition</th>\n",
       "      <th>SalePrice</th>\n",
       "    </tr>\n",
       "  </thead>\n",
       "  <tbody>\n",
       "    <tr>\n",
       "      <td>0</td>\n",
       "      <td>1</td>\n",
       "      <td>60</td>\n",
       "      <td>RL</td>\n",
       "      <td>65.0</td>\n",
       "      <td>8450</td>\n",
       "      <td>Pave</td>\n",
       "      <td>NaN</td>\n",
       "      <td>Reg</td>\n",
       "      <td>Lvl</td>\n",
       "      <td>AllPub</td>\n",
       "      <td>...</td>\n",
       "      <td>0</td>\n",
       "      <td>NaN</td>\n",
       "      <td>NaN</td>\n",
       "      <td>NaN</td>\n",
       "      <td>0</td>\n",
       "      <td>2</td>\n",
       "      <td>2008</td>\n",
       "      <td>WD</td>\n",
       "      <td>Normal</td>\n",
       "      <td>208500</td>\n",
       "    </tr>\n",
       "    <tr>\n",
       "      <td>1</td>\n",
       "      <td>2</td>\n",
       "      <td>20</td>\n",
       "      <td>RL</td>\n",
       "      <td>80.0</td>\n",
       "      <td>9600</td>\n",
       "      <td>Pave</td>\n",
       "      <td>NaN</td>\n",
       "      <td>Reg</td>\n",
       "      <td>Lvl</td>\n",
       "      <td>AllPub</td>\n",
       "      <td>...</td>\n",
       "      <td>0</td>\n",
       "      <td>NaN</td>\n",
       "      <td>NaN</td>\n",
       "      <td>NaN</td>\n",
       "      <td>0</td>\n",
       "      <td>5</td>\n",
       "      <td>2007</td>\n",
       "      <td>WD</td>\n",
       "      <td>Normal</td>\n",
       "      <td>181500</td>\n",
       "    </tr>\n",
       "    <tr>\n",
       "      <td>2</td>\n",
       "      <td>3</td>\n",
       "      <td>60</td>\n",
       "      <td>RL</td>\n",
       "      <td>68.0</td>\n",
       "      <td>11250</td>\n",
       "      <td>Pave</td>\n",
       "      <td>NaN</td>\n",
       "      <td>IR1</td>\n",
       "      <td>Lvl</td>\n",
       "      <td>AllPub</td>\n",
       "      <td>...</td>\n",
       "      <td>0</td>\n",
       "      <td>NaN</td>\n",
       "      <td>NaN</td>\n",
       "      <td>NaN</td>\n",
       "      <td>0</td>\n",
       "      <td>9</td>\n",
       "      <td>2008</td>\n",
       "      <td>WD</td>\n",
       "      <td>Normal</td>\n",
       "      <td>223500</td>\n",
       "    </tr>\n",
       "    <tr>\n",
       "      <td>3</td>\n",
       "      <td>4</td>\n",
       "      <td>70</td>\n",
       "      <td>RL</td>\n",
       "      <td>60.0</td>\n",
       "      <td>9550</td>\n",
       "      <td>Pave</td>\n",
       "      <td>NaN</td>\n",
       "      <td>IR1</td>\n",
       "      <td>Lvl</td>\n",
       "      <td>AllPub</td>\n",
       "      <td>...</td>\n",
       "      <td>0</td>\n",
       "      <td>NaN</td>\n",
       "      <td>NaN</td>\n",
       "      <td>NaN</td>\n",
       "      <td>0</td>\n",
       "      <td>2</td>\n",
       "      <td>2006</td>\n",
       "      <td>WD</td>\n",
       "      <td>Abnorml</td>\n",
       "      <td>140000</td>\n",
       "    </tr>\n",
       "    <tr>\n",
       "      <td>4</td>\n",
       "      <td>5</td>\n",
       "      <td>60</td>\n",
       "      <td>RL</td>\n",
       "      <td>84.0</td>\n",
       "      <td>14260</td>\n",
       "      <td>Pave</td>\n",
       "      <td>NaN</td>\n",
       "      <td>IR1</td>\n",
       "      <td>Lvl</td>\n",
       "      <td>AllPub</td>\n",
       "      <td>...</td>\n",
       "      <td>0</td>\n",
       "      <td>NaN</td>\n",
       "      <td>NaN</td>\n",
       "      <td>NaN</td>\n",
       "      <td>0</td>\n",
       "      <td>12</td>\n",
       "      <td>2008</td>\n",
       "      <td>WD</td>\n",
       "      <td>Normal</td>\n",
       "      <td>250000</td>\n",
       "    </tr>\n",
       "  </tbody>\n",
       "</table>\n",
       "<p>5 rows × 81 columns</p>\n",
       "</div>"
      ],
      "text/plain": [
       "   Id  MSSubClass MSZoning  LotFrontage  LotArea Street Alley LotShape  \\\n",
       "0   1          60       RL         65.0     8450   Pave   NaN      Reg   \n",
       "1   2          20       RL         80.0     9600   Pave   NaN      Reg   \n",
       "2   3          60       RL         68.0    11250   Pave   NaN      IR1   \n",
       "3   4          70       RL         60.0     9550   Pave   NaN      IR1   \n",
       "4   5          60       RL         84.0    14260   Pave   NaN      IR1   \n",
       "\n",
       "  LandContour Utilities  ... PoolArea PoolQC Fence MiscFeature MiscVal MoSold  \\\n",
       "0         Lvl    AllPub  ...        0    NaN   NaN         NaN       0      2   \n",
       "1         Lvl    AllPub  ...        0    NaN   NaN         NaN       0      5   \n",
       "2         Lvl    AllPub  ...        0    NaN   NaN         NaN       0      9   \n",
       "3         Lvl    AllPub  ...        0    NaN   NaN         NaN       0      2   \n",
       "4         Lvl    AllPub  ...        0    NaN   NaN         NaN       0     12   \n",
       "\n",
       "  YrSold  SaleType  SaleCondition  SalePrice  \n",
       "0   2008        WD         Normal     208500  \n",
       "1   2007        WD         Normal     181500  \n",
       "2   2008        WD         Normal     223500  \n",
       "3   2006        WD        Abnorml     140000  \n",
       "4   2008        WD         Normal     250000  \n",
       "\n",
       "[5 rows x 81 columns]"
      ]
     },
     "execution_count": 3,
     "metadata": {},
     "output_type": "execute_result"
    }
   ],
   "source": [
    "train.head()"
   ]
  },
  {
   "cell_type": "code",
   "execution_count": 4,
   "metadata": {},
   "outputs": [
    {
     "data": {
      "text/html": [
       "<div>\n",
       "<style scoped>\n",
       "    .dataframe tbody tr th:only-of-type {\n",
       "        vertical-align: middle;\n",
       "    }\n",
       "\n",
       "    .dataframe tbody tr th {\n",
       "        vertical-align: top;\n",
       "    }\n",
       "\n",
       "    .dataframe thead th {\n",
       "        text-align: right;\n",
       "    }\n",
       "</style>\n",
       "<table border=\"1\" class=\"dataframe\">\n",
       "  <thead>\n",
       "    <tr style=\"text-align: right;\">\n",
       "      <th></th>\n",
       "      <th>Id</th>\n",
       "      <th>MSSubClass</th>\n",
       "      <th>MSZoning</th>\n",
       "      <th>LotFrontage</th>\n",
       "      <th>LotArea</th>\n",
       "      <th>Street</th>\n",
       "      <th>Alley</th>\n",
       "      <th>LotShape</th>\n",
       "      <th>LandContour</th>\n",
       "      <th>Utilities</th>\n",
       "      <th>...</th>\n",
       "      <th>ScreenPorch</th>\n",
       "      <th>PoolArea</th>\n",
       "      <th>PoolQC</th>\n",
       "      <th>Fence</th>\n",
       "      <th>MiscFeature</th>\n",
       "      <th>MiscVal</th>\n",
       "      <th>MoSold</th>\n",
       "      <th>YrSold</th>\n",
       "      <th>SaleType</th>\n",
       "      <th>SaleCondition</th>\n",
       "    </tr>\n",
       "  </thead>\n",
       "  <tbody>\n",
       "    <tr>\n",
       "      <td>0</td>\n",
       "      <td>1461</td>\n",
       "      <td>20</td>\n",
       "      <td>RH</td>\n",
       "      <td>80.0</td>\n",
       "      <td>11622</td>\n",
       "      <td>Pave</td>\n",
       "      <td>NaN</td>\n",
       "      <td>Reg</td>\n",
       "      <td>Lvl</td>\n",
       "      <td>AllPub</td>\n",
       "      <td>...</td>\n",
       "      <td>120</td>\n",
       "      <td>0</td>\n",
       "      <td>NaN</td>\n",
       "      <td>MnPrv</td>\n",
       "      <td>NaN</td>\n",
       "      <td>0</td>\n",
       "      <td>6</td>\n",
       "      <td>2010</td>\n",
       "      <td>WD</td>\n",
       "      <td>Normal</td>\n",
       "    </tr>\n",
       "    <tr>\n",
       "      <td>1</td>\n",
       "      <td>1462</td>\n",
       "      <td>20</td>\n",
       "      <td>RL</td>\n",
       "      <td>81.0</td>\n",
       "      <td>14267</td>\n",
       "      <td>Pave</td>\n",
       "      <td>NaN</td>\n",
       "      <td>IR1</td>\n",
       "      <td>Lvl</td>\n",
       "      <td>AllPub</td>\n",
       "      <td>...</td>\n",
       "      <td>0</td>\n",
       "      <td>0</td>\n",
       "      <td>NaN</td>\n",
       "      <td>NaN</td>\n",
       "      <td>Gar2</td>\n",
       "      <td>12500</td>\n",
       "      <td>6</td>\n",
       "      <td>2010</td>\n",
       "      <td>WD</td>\n",
       "      <td>Normal</td>\n",
       "    </tr>\n",
       "    <tr>\n",
       "      <td>2</td>\n",
       "      <td>1463</td>\n",
       "      <td>60</td>\n",
       "      <td>RL</td>\n",
       "      <td>74.0</td>\n",
       "      <td>13830</td>\n",
       "      <td>Pave</td>\n",
       "      <td>NaN</td>\n",
       "      <td>IR1</td>\n",
       "      <td>Lvl</td>\n",
       "      <td>AllPub</td>\n",
       "      <td>...</td>\n",
       "      <td>0</td>\n",
       "      <td>0</td>\n",
       "      <td>NaN</td>\n",
       "      <td>MnPrv</td>\n",
       "      <td>NaN</td>\n",
       "      <td>0</td>\n",
       "      <td>3</td>\n",
       "      <td>2010</td>\n",
       "      <td>WD</td>\n",
       "      <td>Normal</td>\n",
       "    </tr>\n",
       "    <tr>\n",
       "      <td>3</td>\n",
       "      <td>1464</td>\n",
       "      <td>60</td>\n",
       "      <td>RL</td>\n",
       "      <td>78.0</td>\n",
       "      <td>9978</td>\n",
       "      <td>Pave</td>\n",
       "      <td>NaN</td>\n",
       "      <td>IR1</td>\n",
       "      <td>Lvl</td>\n",
       "      <td>AllPub</td>\n",
       "      <td>...</td>\n",
       "      <td>0</td>\n",
       "      <td>0</td>\n",
       "      <td>NaN</td>\n",
       "      <td>NaN</td>\n",
       "      <td>NaN</td>\n",
       "      <td>0</td>\n",
       "      <td>6</td>\n",
       "      <td>2010</td>\n",
       "      <td>WD</td>\n",
       "      <td>Normal</td>\n",
       "    </tr>\n",
       "    <tr>\n",
       "      <td>4</td>\n",
       "      <td>1465</td>\n",
       "      <td>120</td>\n",
       "      <td>RL</td>\n",
       "      <td>43.0</td>\n",
       "      <td>5005</td>\n",
       "      <td>Pave</td>\n",
       "      <td>NaN</td>\n",
       "      <td>IR1</td>\n",
       "      <td>HLS</td>\n",
       "      <td>AllPub</td>\n",
       "      <td>...</td>\n",
       "      <td>144</td>\n",
       "      <td>0</td>\n",
       "      <td>NaN</td>\n",
       "      <td>NaN</td>\n",
       "      <td>NaN</td>\n",
       "      <td>0</td>\n",
       "      <td>1</td>\n",
       "      <td>2010</td>\n",
       "      <td>WD</td>\n",
       "      <td>Normal</td>\n",
       "    </tr>\n",
       "  </tbody>\n",
       "</table>\n",
       "<p>5 rows × 80 columns</p>\n",
       "</div>"
      ],
      "text/plain": [
       "     Id  MSSubClass MSZoning  LotFrontage  LotArea Street Alley LotShape  \\\n",
       "0  1461          20       RH         80.0    11622   Pave   NaN      Reg   \n",
       "1  1462          20       RL         81.0    14267   Pave   NaN      IR1   \n",
       "2  1463          60       RL         74.0    13830   Pave   NaN      IR1   \n",
       "3  1464          60       RL         78.0     9978   Pave   NaN      IR1   \n",
       "4  1465         120       RL         43.0     5005   Pave   NaN      IR1   \n",
       "\n",
       "  LandContour Utilities  ... ScreenPorch PoolArea PoolQC  Fence MiscFeature  \\\n",
       "0         Lvl    AllPub  ...         120        0    NaN  MnPrv         NaN   \n",
       "1         Lvl    AllPub  ...           0        0    NaN    NaN        Gar2   \n",
       "2         Lvl    AllPub  ...           0        0    NaN  MnPrv         NaN   \n",
       "3         Lvl    AllPub  ...           0        0    NaN    NaN         NaN   \n",
       "4         HLS    AllPub  ...         144        0    NaN    NaN         NaN   \n",
       "\n",
       "  MiscVal MoSold  YrSold  SaleType  SaleCondition  \n",
       "0       0      6    2010        WD         Normal  \n",
       "1   12500      6    2010        WD         Normal  \n",
       "2       0      3    2010        WD         Normal  \n",
       "3       0      6    2010        WD         Normal  \n",
       "4       0      1    2010        WD         Normal  \n",
       "\n",
       "[5 rows x 80 columns]"
      ]
     },
     "execution_count": 4,
     "metadata": {},
     "output_type": "execute_result"
    }
   ],
   "source": [
    "test.head()"
   ]
  },
  {
   "cell_type": "code",
   "execution_count": 5,
   "metadata": {},
   "outputs": [
    {
     "data": {
      "text/plain": [
       "((1459, 80), (1460, 81))"
      ]
     },
     "execution_count": 5,
     "metadata": {},
     "output_type": "execute_result"
    }
   ],
   "source": [
    "test.shape, train.shape"
   ]
  },
  {
   "cell_type": "code",
   "execution_count": 6,
   "metadata": {},
   "outputs": [
    {
     "data": {
      "text/plain": [
       "(      MSSubClass MSZoning  LotFrontage  LotArea Street Alley LotShape  \\\n",
       " Id                                                                      \n",
       " 1461          20       RH         80.0    11622   Pave   NaN      Reg   \n",
       " 1462          20       RL         81.0    14267   Pave   NaN      IR1   \n",
       " 1463          60       RL         74.0    13830   Pave   NaN      IR1   \n",
       " 1464          60       RL         78.0     9978   Pave   NaN      IR1   \n",
       " 1465         120       RL         43.0     5005   Pave   NaN      IR1   \n",
       " ...          ...      ...          ...      ...    ...   ...      ...   \n",
       " 2915         160       RM         21.0     1936   Pave   NaN      Reg   \n",
       " 2916         160       RM         21.0     1894   Pave   NaN      Reg   \n",
       " 2917          20       RL        160.0    20000   Pave   NaN      Reg   \n",
       " 2918          85       RL         62.0    10441   Pave   NaN      Reg   \n",
       " 2919          60       RL         74.0     9627   Pave   NaN      Reg   \n",
       " \n",
       "      LandContour Utilities LotConfig  ... ScreenPorch PoolArea PoolQC  Fence  \\\n",
       " Id                                    ...                                      \n",
       " 1461         Lvl    AllPub    Inside  ...         120        0    NaN  MnPrv   \n",
       " 1462         Lvl    AllPub    Corner  ...           0        0    NaN    NaN   \n",
       " 1463         Lvl    AllPub    Inside  ...           0        0    NaN  MnPrv   \n",
       " 1464         Lvl    AllPub    Inside  ...           0        0    NaN    NaN   \n",
       " 1465         HLS    AllPub    Inside  ...         144        0    NaN    NaN   \n",
       " ...          ...       ...       ...  ...         ...      ...    ...    ...   \n",
       " 2915         Lvl    AllPub    Inside  ...           0        0    NaN    NaN   \n",
       " 2916         Lvl    AllPub    Inside  ...           0        0    NaN    NaN   \n",
       " 2917         Lvl    AllPub    Inside  ...           0        0    NaN    NaN   \n",
       " 2918         Lvl    AllPub    Inside  ...           0        0    NaN  MnPrv   \n",
       " 2919         Lvl    AllPub    Inside  ...           0        0    NaN    NaN   \n",
       " \n",
       "      MiscFeature MiscVal  MoSold  YrSold  SaleType  SaleCondition  \n",
       " Id                                                                 \n",
       " 1461         NaN       0       6    2010        WD         Normal  \n",
       " 1462        Gar2   12500       6    2010        WD         Normal  \n",
       " 1463         NaN       0       3    2010        WD         Normal  \n",
       " 1464         NaN       0       6    2010        WD         Normal  \n",
       " 1465         NaN       0       1    2010        WD         Normal  \n",
       " ...          ...     ...     ...     ...       ...            ...  \n",
       " 2915         NaN       0       6    2006        WD         Normal  \n",
       " 2916         NaN       0       4    2006        WD        Abnorml  \n",
       " 2917         NaN       0       9    2006        WD        Abnorml  \n",
       " 2918        Shed     700       7    2006        WD         Normal  \n",
       " 2919         NaN       0      11    2006        WD         Normal  \n",
       " \n",
       " [1459 rows x 79 columns],\n",
       "       MSSubClass MSZoning  LotFrontage  LotArea Street Alley LotShape  \\\n",
       " Id                                                                      \n",
       " 1             60       RL         65.0     8450   Pave   NaN      Reg   \n",
       " 2             20       RL         80.0     9600   Pave   NaN      Reg   \n",
       " 3             60       RL         68.0    11250   Pave   NaN      IR1   \n",
       " 4             70       RL         60.0     9550   Pave   NaN      IR1   \n",
       " 5             60       RL         84.0    14260   Pave   NaN      IR1   \n",
       " ...          ...      ...          ...      ...    ...   ...      ...   \n",
       " 1456          60       RL         62.0     7917   Pave   NaN      Reg   \n",
       " 1457          20       RL         85.0    13175   Pave   NaN      Reg   \n",
       " 1458          70       RL         66.0     9042   Pave   NaN      Reg   \n",
       " 1459          20       RL         68.0     9717   Pave   NaN      Reg   \n",
       " 1460          20       RL         75.0     9937   Pave   NaN      Reg   \n",
       " \n",
       "      LandContour Utilities LotConfig  ... PoolArea PoolQC  Fence MiscFeature  \\\n",
       " Id                                    ...                                      \n",
       " 1            Lvl    AllPub    Inside  ...        0    NaN    NaN         NaN   \n",
       " 2            Lvl    AllPub       FR2  ...        0    NaN    NaN         NaN   \n",
       " 3            Lvl    AllPub    Inside  ...        0    NaN    NaN         NaN   \n",
       " 4            Lvl    AllPub    Corner  ...        0    NaN    NaN         NaN   \n",
       " 5            Lvl    AllPub       FR2  ...        0    NaN    NaN         NaN   \n",
       " ...          ...       ...       ...  ...      ...    ...    ...         ...   \n",
       " 1456         Lvl    AllPub    Inside  ...        0    NaN    NaN         NaN   \n",
       " 1457         Lvl    AllPub    Inside  ...        0    NaN  MnPrv         NaN   \n",
       " 1458         Lvl    AllPub    Inside  ...        0    NaN  GdPrv        Shed   \n",
       " 1459         Lvl    AllPub    Inside  ...        0    NaN    NaN         NaN   \n",
       " 1460         Lvl    AllPub    Inside  ...        0    NaN    NaN         NaN   \n",
       " \n",
       "      MiscVal MoSold  YrSold  SaleType  SaleCondition  SalePrice  \n",
       " Id                                                               \n",
       " 1          0      2    2008        WD         Normal     208500  \n",
       " 2          0      5    2007        WD         Normal     181500  \n",
       " 3          0      9    2008        WD         Normal     223500  \n",
       " 4          0      2    2006        WD        Abnorml     140000  \n",
       " 5          0     12    2008        WD         Normal     250000  \n",
       " ...      ...    ...     ...       ...            ...        ...  \n",
       " 1456       0      8    2007        WD         Normal     175000  \n",
       " 1457       0      2    2010        WD         Normal     210000  \n",
       " 1458    2500      5    2010        WD         Normal     266500  \n",
       " 1459       0      4    2010        WD         Normal     142125  \n",
       " 1460       0      6    2008        WD         Normal     147500  \n",
       " \n",
       " [1460 rows x 80 columns])"
      ]
     },
     "execution_count": 6,
     "metadata": {},
     "output_type": "execute_result"
    }
   ],
   "source": [
    "test.set_index('Id'), train.set_index('Id')"
   ]
  },
  {
   "cell_type": "markdown",
   "metadata": {},
   "source": [
    "###### Separate the target column from the rest of the training data"
   ]
  },
  {
   "cell_type": "code",
   "execution_count": 7,
   "metadata": {},
   "outputs": [],
   "source": [
    "y = pd.DataFrame(train.SalePrice)"
   ]
  },
  {
   "cell_type": "markdown",
   "metadata": {},
   "source": [
    "###### Combine the predictors from the two datasets"
   ]
  },
  {
   "cell_type": "code",
   "execution_count": 8,
   "metadata": {},
   "outputs": [],
   "source": [
    "# td for training data\n",
    "td = pd.concat([train.drop(['SalePrice'], axis=1),test]).reset_index().drop(['index'], axis=1)"
   ]
  },
  {
   "cell_type": "code",
   "execution_count": 9,
   "metadata": {},
   "outputs": [
    {
     "data": {
      "text/html": [
       "<div>\n",
       "<style scoped>\n",
       "    .dataframe tbody tr th:only-of-type {\n",
       "        vertical-align: middle;\n",
       "    }\n",
       "\n",
       "    .dataframe tbody tr th {\n",
       "        vertical-align: top;\n",
       "    }\n",
       "\n",
       "    .dataframe thead th {\n",
       "        text-align: right;\n",
       "    }\n",
       "</style>\n",
       "<table border=\"1\" class=\"dataframe\">\n",
       "  <thead>\n",
       "    <tr style=\"text-align: right;\">\n",
       "      <th></th>\n",
       "      <th>Id</th>\n",
       "      <th>MSSubClass</th>\n",
       "      <th>MSZoning</th>\n",
       "      <th>LotFrontage</th>\n",
       "      <th>LotArea</th>\n",
       "      <th>Street</th>\n",
       "      <th>Alley</th>\n",
       "      <th>LotShape</th>\n",
       "      <th>LandContour</th>\n",
       "      <th>Utilities</th>\n",
       "      <th>...</th>\n",
       "      <th>ScreenPorch</th>\n",
       "      <th>PoolArea</th>\n",
       "      <th>PoolQC</th>\n",
       "      <th>Fence</th>\n",
       "      <th>MiscFeature</th>\n",
       "      <th>MiscVal</th>\n",
       "      <th>MoSold</th>\n",
       "      <th>YrSold</th>\n",
       "      <th>SaleType</th>\n",
       "      <th>SaleCondition</th>\n",
       "    </tr>\n",
       "  </thead>\n",
       "  <tbody>\n",
       "    <tr>\n",
       "      <td>2909</td>\n",
       "      <td>2910</td>\n",
       "      <td>180</td>\n",
       "      <td>RM</td>\n",
       "      <td>21.0</td>\n",
       "      <td>1470</td>\n",
       "      <td>Pave</td>\n",
       "      <td>NaN</td>\n",
       "      <td>Reg</td>\n",
       "      <td>Lvl</td>\n",
       "      <td>AllPub</td>\n",
       "      <td>...</td>\n",
       "      <td>0</td>\n",
       "      <td>0</td>\n",
       "      <td>NaN</td>\n",
       "      <td>NaN</td>\n",
       "      <td>NaN</td>\n",
       "      <td>0</td>\n",
       "      <td>4</td>\n",
       "      <td>2006</td>\n",
       "      <td>WD</td>\n",
       "      <td>Normal</td>\n",
       "    </tr>\n",
       "    <tr>\n",
       "      <td>2910</td>\n",
       "      <td>2911</td>\n",
       "      <td>160</td>\n",
       "      <td>RM</td>\n",
       "      <td>21.0</td>\n",
       "      <td>1484</td>\n",
       "      <td>Pave</td>\n",
       "      <td>NaN</td>\n",
       "      <td>Reg</td>\n",
       "      <td>Lvl</td>\n",
       "      <td>AllPub</td>\n",
       "      <td>...</td>\n",
       "      <td>0</td>\n",
       "      <td>0</td>\n",
       "      <td>NaN</td>\n",
       "      <td>NaN</td>\n",
       "      <td>NaN</td>\n",
       "      <td>0</td>\n",
       "      <td>5</td>\n",
       "      <td>2006</td>\n",
       "      <td>WD</td>\n",
       "      <td>Normal</td>\n",
       "    </tr>\n",
       "    <tr>\n",
       "      <td>2911</td>\n",
       "      <td>2912</td>\n",
       "      <td>20</td>\n",
       "      <td>RL</td>\n",
       "      <td>80.0</td>\n",
       "      <td>13384</td>\n",
       "      <td>Pave</td>\n",
       "      <td>NaN</td>\n",
       "      <td>Reg</td>\n",
       "      <td>Lvl</td>\n",
       "      <td>AllPub</td>\n",
       "      <td>...</td>\n",
       "      <td>0</td>\n",
       "      <td>0</td>\n",
       "      <td>NaN</td>\n",
       "      <td>NaN</td>\n",
       "      <td>NaN</td>\n",
       "      <td>0</td>\n",
       "      <td>5</td>\n",
       "      <td>2006</td>\n",
       "      <td>WD</td>\n",
       "      <td>Normal</td>\n",
       "    </tr>\n",
       "    <tr>\n",
       "      <td>2912</td>\n",
       "      <td>2913</td>\n",
       "      <td>160</td>\n",
       "      <td>RM</td>\n",
       "      <td>21.0</td>\n",
       "      <td>1533</td>\n",
       "      <td>Pave</td>\n",
       "      <td>NaN</td>\n",
       "      <td>Reg</td>\n",
       "      <td>Lvl</td>\n",
       "      <td>AllPub</td>\n",
       "      <td>...</td>\n",
       "      <td>0</td>\n",
       "      <td>0</td>\n",
       "      <td>NaN</td>\n",
       "      <td>NaN</td>\n",
       "      <td>NaN</td>\n",
       "      <td>0</td>\n",
       "      <td>12</td>\n",
       "      <td>2006</td>\n",
       "      <td>WD</td>\n",
       "      <td>Abnorml</td>\n",
       "    </tr>\n",
       "    <tr>\n",
       "      <td>2913</td>\n",
       "      <td>2914</td>\n",
       "      <td>160</td>\n",
       "      <td>RM</td>\n",
       "      <td>21.0</td>\n",
       "      <td>1526</td>\n",
       "      <td>Pave</td>\n",
       "      <td>NaN</td>\n",
       "      <td>Reg</td>\n",
       "      <td>Lvl</td>\n",
       "      <td>AllPub</td>\n",
       "      <td>...</td>\n",
       "      <td>0</td>\n",
       "      <td>0</td>\n",
       "      <td>NaN</td>\n",
       "      <td>GdPrv</td>\n",
       "      <td>NaN</td>\n",
       "      <td>0</td>\n",
       "      <td>6</td>\n",
       "      <td>2006</td>\n",
       "      <td>WD</td>\n",
       "      <td>Normal</td>\n",
       "    </tr>\n",
       "    <tr>\n",
       "      <td>2914</td>\n",
       "      <td>2915</td>\n",
       "      <td>160</td>\n",
       "      <td>RM</td>\n",
       "      <td>21.0</td>\n",
       "      <td>1936</td>\n",
       "      <td>Pave</td>\n",
       "      <td>NaN</td>\n",
       "      <td>Reg</td>\n",
       "      <td>Lvl</td>\n",
       "      <td>AllPub</td>\n",
       "      <td>...</td>\n",
       "      <td>0</td>\n",
       "      <td>0</td>\n",
       "      <td>NaN</td>\n",
       "      <td>NaN</td>\n",
       "      <td>NaN</td>\n",
       "      <td>0</td>\n",
       "      <td>6</td>\n",
       "      <td>2006</td>\n",
       "      <td>WD</td>\n",
       "      <td>Normal</td>\n",
       "    </tr>\n",
       "    <tr>\n",
       "      <td>2915</td>\n",
       "      <td>2916</td>\n",
       "      <td>160</td>\n",
       "      <td>RM</td>\n",
       "      <td>21.0</td>\n",
       "      <td>1894</td>\n",
       "      <td>Pave</td>\n",
       "      <td>NaN</td>\n",
       "      <td>Reg</td>\n",
       "      <td>Lvl</td>\n",
       "      <td>AllPub</td>\n",
       "      <td>...</td>\n",
       "      <td>0</td>\n",
       "      <td>0</td>\n",
       "      <td>NaN</td>\n",
       "      <td>NaN</td>\n",
       "      <td>NaN</td>\n",
       "      <td>0</td>\n",
       "      <td>4</td>\n",
       "      <td>2006</td>\n",
       "      <td>WD</td>\n",
       "      <td>Abnorml</td>\n",
       "    </tr>\n",
       "    <tr>\n",
       "      <td>2916</td>\n",
       "      <td>2917</td>\n",
       "      <td>20</td>\n",
       "      <td>RL</td>\n",
       "      <td>160.0</td>\n",
       "      <td>20000</td>\n",
       "      <td>Pave</td>\n",
       "      <td>NaN</td>\n",
       "      <td>Reg</td>\n",
       "      <td>Lvl</td>\n",
       "      <td>AllPub</td>\n",
       "      <td>...</td>\n",
       "      <td>0</td>\n",
       "      <td>0</td>\n",
       "      <td>NaN</td>\n",
       "      <td>NaN</td>\n",
       "      <td>NaN</td>\n",
       "      <td>0</td>\n",
       "      <td>9</td>\n",
       "      <td>2006</td>\n",
       "      <td>WD</td>\n",
       "      <td>Abnorml</td>\n",
       "    </tr>\n",
       "    <tr>\n",
       "      <td>2917</td>\n",
       "      <td>2918</td>\n",
       "      <td>85</td>\n",
       "      <td>RL</td>\n",
       "      <td>62.0</td>\n",
       "      <td>10441</td>\n",
       "      <td>Pave</td>\n",
       "      <td>NaN</td>\n",
       "      <td>Reg</td>\n",
       "      <td>Lvl</td>\n",
       "      <td>AllPub</td>\n",
       "      <td>...</td>\n",
       "      <td>0</td>\n",
       "      <td>0</td>\n",
       "      <td>NaN</td>\n",
       "      <td>MnPrv</td>\n",
       "      <td>Shed</td>\n",
       "      <td>700</td>\n",
       "      <td>7</td>\n",
       "      <td>2006</td>\n",
       "      <td>WD</td>\n",
       "      <td>Normal</td>\n",
       "    </tr>\n",
       "    <tr>\n",
       "      <td>2918</td>\n",
       "      <td>2919</td>\n",
       "      <td>60</td>\n",
       "      <td>RL</td>\n",
       "      <td>74.0</td>\n",
       "      <td>9627</td>\n",
       "      <td>Pave</td>\n",
       "      <td>NaN</td>\n",
       "      <td>Reg</td>\n",
       "      <td>Lvl</td>\n",
       "      <td>AllPub</td>\n",
       "      <td>...</td>\n",
       "      <td>0</td>\n",
       "      <td>0</td>\n",
       "      <td>NaN</td>\n",
       "      <td>NaN</td>\n",
       "      <td>NaN</td>\n",
       "      <td>0</td>\n",
       "      <td>11</td>\n",
       "      <td>2006</td>\n",
       "      <td>WD</td>\n",
       "      <td>Normal</td>\n",
       "    </tr>\n",
       "  </tbody>\n",
       "</table>\n",
       "<p>10 rows × 80 columns</p>\n",
       "</div>"
      ],
      "text/plain": [
       "        Id  MSSubClass MSZoning  LotFrontage  LotArea Street Alley LotShape  \\\n",
       "2909  2910         180       RM         21.0     1470   Pave   NaN      Reg   \n",
       "2910  2911         160       RM         21.0     1484   Pave   NaN      Reg   \n",
       "2911  2912          20       RL         80.0    13384   Pave   NaN      Reg   \n",
       "2912  2913         160       RM         21.0     1533   Pave   NaN      Reg   \n",
       "2913  2914         160       RM         21.0     1526   Pave   NaN      Reg   \n",
       "2914  2915         160       RM         21.0     1936   Pave   NaN      Reg   \n",
       "2915  2916         160       RM         21.0     1894   Pave   NaN      Reg   \n",
       "2916  2917          20       RL        160.0    20000   Pave   NaN      Reg   \n",
       "2917  2918          85       RL         62.0    10441   Pave   NaN      Reg   \n",
       "2918  2919          60       RL         74.0     9627   Pave   NaN      Reg   \n",
       "\n",
       "     LandContour Utilities  ... ScreenPorch PoolArea PoolQC  Fence  \\\n",
       "2909         Lvl    AllPub  ...           0        0    NaN    NaN   \n",
       "2910         Lvl    AllPub  ...           0        0    NaN    NaN   \n",
       "2911         Lvl    AllPub  ...           0        0    NaN    NaN   \n",
       "2912         Lvl    AllPub  ...           0        0    NaN    NaN   \n",
       "2913         Lvl    AllPub  ...           0        0    NaN  GdPrv   \n",
       "2914         Lvl    AllPub  ...           0        0    NaN    NaN   \n",
       "2915         Lvl    AllPub  ...           0        0    NaN    NaN   \n",
       "2916         Lvl    AllPub  ...           0        0    NaN    NaN   \n",
       "2917         Lvl    AllPub  ...           0        0    NaN  MnPrv   \n",
       "2918         Lvl    AllPub  ...           0        0    NaN    NaN   \n",
       "\n",
       "     MiscFeature MiscVal MoSold  YrSold  SaleType  SaleCondition  \n",
       "2909         NaN       0      4    2006        WD         Normal  \n",
       "2910         NaN       0      5    2006        WD         Normal  \n",
       "2911         NaN       0      5    2006        WD         Normal  \n",
       "2912         NaN       0     12    2006        WD        Abnorml  \n",
       "2913         NaN       0      6    2006        WD         Normal  \n",
       "2914         NaN       0      6    2006        WD         Normal  \n",
       "2915         NaN       0      4    2006        WD        Abnorml  \n",
       "2916         NaN       0      9    2006        WD        Abnorml  \n",
       "2917        Shed     700      7    2006        WD         Normal  \n",
       "2918         NaN       0     11    2006        WD         Normal  \n",
       "\n",
       "[10 rows x 80 columns]"
      ]
     },
     "execution_count": 9,
     "metadata": {},
     "output_type": "execute_result"
    }
   ],
   "source": [
    "td.tail(10)"
   ]
  },
  {
   "cell_type": "code",
   "execution_count": 10,
   "metadata": {},
   "outputs": [
    {
     "name": "stdout",
     "output_type": "stream",
     "text": [
      "<class 'pandas.core.frame.DataFrame'>\n",
      "RangeIndex: 2919 entries, 0 to 2918\n",
      "Data columns (total 80 columns):\n",
      "Id               2919 non-null int64\n",
      "MSSubClass       2919 non-null int64\n",
      "MSZoning         2915 non-null object\n",
      "LotFrontage      2433 non-null float64\n",
      "LotArea          2919 non-null int64\n",
      "Street           2919 non-null object\n",
      "Alley            198 non-null object\n",
      "LotShape         2919 non-null object\n",
      "LandContour      2919 non-null object\n",
      "Utilities        2917 non-null object\n",
      "LotConfig        2919 non-null object\n",
      "LandSlope        2919 non-null object\n",
      "Neighborhood     2919 non-null object\n",
      "Condition1       2919 non-null object\n",
      "Condition2       2919 non-null object\n",
      "BldgType         2919 non-null object\n",
      "HouseStyle       2919 non-null object\n",
      "OverallQual      2919 non-null int64\n",
      "OverallCond      2919 non-null int64\n",
      "YearBuilt        2919 non-null int64\n",
      "YearRemodAdd     2919 non-null int64\n",
      "RoofStyle        2919 non-null object\n",
      "RoofMatl         2919 non-null object\n",
      "Exterior1st      2918 non-null object\n",
      "Exterior2nd      2918 non-null object\n",
      "MasVnrType       2895 non-null object\n",
      "MasVnrArea       2896 non-null float64\n",
      "ExterQual        2919 non-null object\n",
      "ExterCond        2919 non-null object\n",
      "Foundation       2919 non-null object\n",
      "BsmtQual         2838 non-null object\n",
      "BsmtCond         2837 non-null object\n",
      "BsmtExposure     2837 non-null object\n",
      "BsmtFinType1     2840 non-null object\n",
      "BsmtFinSF1       2918 non-null float64\n",
      "BsmtFinType2     2839 non-null object\n",
      "BsmtFinSF2       2918 non-null float64\n",
      "BsmtUnfSF        2918 non-null float64\n",
      "TotalBsmtSF      2918 non-null float64\n",
      "Heating          2919 non-null object\n",
      "HeatingQC        2919 non-null object\n",
      "CentralAir       2919 non-null object\n",
      "Electrical       2918 non-null object\n",
      "1stFlrSF         2919 non-null int64\n",
      "2ndFlrSF         2919 non-null int64\n",
      "LowQualFinSF     2919 non-null int64\n",
      "GrLivArea        2919 non-null int64\n",
      "BsmtFullBath     2917 non-null float64\n",
      "BsmtHalfBath     2917 non-null float64\n",
      "FullBath         2919 non-null int64\n",
      "HalfBath         2919 non-null int64\n",
      "BedroomAbvGr     2919 non-null int64\n",
      "KitchenAbvGr     2919 non-null int64\n",
      "KitchenQual      2918 non-null object\n",
      "TotRmsAbvGrd     2919 non-null int64\n",
      "Functional       2917 non-null object\n",
      "Fireplaces       2919 non-null int64\n",
      "FireplaceQu      1499 non-null object\n",
      "GarageType       2762 non-null object\n",
      "GarageYrBlt      2760 non-null float64\n",
      "GarageFinish     2760 non-null object\n",
      "GarageCars       2918 non-null float64\n",
      "GarageArea       2918 non-null float64\n",
      "GarageQual       2760 non-null object\n",
      "GarageCond       2760 non-null object\n",
      "PavedDrive       2919 non-null object\n",
      "WoodDeckSF       2919 non-null int64\n",
      "OpenPorchSF      2919 non-null int64\n",
      "EnclosedPorch    2919 non-null int64\n",
      "3SsnPorch        2919 non-null int64\n",
      "ScreenPorch      2919 non-null int64\n",
      "PoolArea         2919 non-null int64\n",
      "PoolQC           10 non-null object\n",
      "Fence            571 non-null object\n",
      "MiscFeature      105 non-null object\n",
      "MiscVal          2919 non-null int64\n",
      "MoSold           2919 non-null int64\n",
      "YrSold           2919 non-null int64\n",
      "SaleType         2918 non-null object\n",
      "SaleCondition    2919 non-null object\n",
      "dtypes: float64(11), int64(26), object(43)\n",
      "memory usage: 1.8+ MB\n"
     ]
    }
   ],
   "source": [
    "td.info()"
   ]
  },
  {
   "cell_type": "markdown",
   "metadata": {},
   "source": [
    "### 2. Data Cleaning"
   ]
  },
  {
   "cell_type": "markdown",
   "metadata": {},
   "source": [
    "###### 2.1. Investigate missing data"
   ]
  },
  {
   "cell_type": "code",
   "execution_count": 11,
   "metadata": {},
   "outputs": [],
   "source": [
    "max_len = max([len(td[col]) for col in td.columns])"
   ]
  },
  {
   "cell_type": "code",
   "execution_count": 12,
   "metadata": {},
   "outputs": [
    {
     "data": {
      "text/plain": [
       "2919"
      ]
     },
     "execution_count": 12,
     "metadata": {},
     "output_type": "execute_result"
    }
   ],
   "source": [
    "max_len"
   ]
  },
  {
   "cell_type": "code",
   "execution_count": 13,
   "metadata": {},
   "outputs": [],
   "source": [
    "percentage_nans = td.isna().sum() / max_len"
   ]
  },
  {
   "cell_type": "code",
   "execution_count": 14,
   "metadata": {},
   "outputs": [],
   "source": [
    "percentage_nans = percentage_nans[percentage_nans > 0]"
   ]
  },
  {
   "cell_type": "code",
   "execution_count": 15,
   "metadata": {},
   "outputs": [
    {
     "data": {
      "text/plain": [
       "MSZoning        0.001370\n",
       "LotFrontage     0.166495\n",
       "Alley           0.932169\n",
       "Utilities       0.000685\n",
       "Exterior1st     0.000343\n",
       "Exterior2nd     0.000343\n",
       "MasVnrType      0.008222\n",
       "MasVnrArea      0.007879\n",
       "BsmtQual        0.027749\n",
       "BsmtCond        0.028092\n",
       "BsmtExposure    0.028092\n",
       "BsmtFinType1    0.027064\n",
       "BsmtFinSF1      0.000343\n",
       "BsmtFinType2    0.027407\n",
       "BsmtFinSF2      0.000343\n",
       "BsmtUnfSF       0.000343\n",
       "TotalBsmtSF     0.000343\n",
       "Electrical      0.000343\n",
       "BsmtFullBath    0.000685\n",
       "BsmtHalfBath    0.000685\n",
       "KitchenQual     0.000343\n",
       "Functional      0.000685\n",
       "FireplaceQu     0.486468\n",
       "GarageType      0.053786\n",
       "GarageYrBlt     0.054471\n",
       "GarageFinish    0.054471\n",
       "GarageCars      0.000343\n",
       "GarageArea      0.000343\n",
       "GarageQual      0.054471\n",
       "GarageCond      0.054471\n",
       "PoolQC          0.996574\n",
       "Fence           0.804385\n",
       "MiscFeature     0.964029\n",
       "SaleType        0.000343\n",
       "dtype: float64"
      ]
     },
     "execution_count": 15,
     "metadata": {},
     "output_type": "execute_result"
    }
   ],
   "source": [
    "percentage_nans"
   ]
  },
  {
   "cell_type": "code",
   "execution_count": 16,
   "metadata": {},
   "outputs": [
    {
     "data": {
      "text/plain": [
       "<matplotlib.axes._subplots.AxesSubplot at 0x12703e0b8>"
      ]
     },
     "execution_count": 16,
     "metadata": {},
     "output_type": "execute_result"
    },
    {
     "data": {
      "image/png": "[encoded data removed]",
      "text/plain": [
       "<Figure size 900x600 with 1 Axes>"
      ]
     },
     "metadata": {
      "needs_background": "light"
     },
     "output_type": "display_data"
    }
   ],
   "source": [
    "plt.rcParams['figure.dpi'] = 150\n",
    "plt.xticks(rotation = 90)\n",
    "sns.barplot(percentage_nans.sort_values(ascending=False).index,\n",
    "            percentage_nans.sort_values(ascending = False))"
   ]
  },
  {
   "cell_type": "markdown",
   "metadata": {},
   "source": [
    "###### 2.2. Imputations by Column"
   ]
  },
  {
   "cell_type": "code",
   "execution_count": 17,
   "metadata": {},
   "outputs": [],
   "source": [
    "# imputation modules\n",
    "import datawig as dtw\n",
    "\n",
    "# generator for columns with NaNs for keeping track easily\n",
    "nan_cols = (i for i in percentage_nans.sort_values(ascending=False).index)"
   ]
  },
  {
   "cell_type": "code",
   "execution_count": 18,
   "metadata": {},
   "outputs": [
    {
     "data": {
      "text/plain": [
       "'PoolQC'"
      ]
     },
     "execution_count": 18,
     "metadata": {},
     "output_type": "execute_result"
    }
   ],
   "source": [
    "next(nan_cols)"
   ]
  },
  {
   "cell_type": "markdown",
   "metadata": {},
   "source": [
    "###### PoolQC"
   ]
  },
  {
   "cell_type": "code",
   "execution_count": 19,
   "metadata": {},
   "outputs": [
    {
     "data": {
      "text/plain": [
       "NaN    2909\n",
       "Gd        4\n",
       "Ex        4\n",
       "Fa        2\n",
       "Name: PoolQC, dtype: int64"
      ]
     },
     "execution_count": 19,
     "metadata": {},
     "output_type": "execute_result"
    }
   ],
   "source": [
    "td.PoolQC.value_counts(dropna=False)"
   ]
  },
  {
   "cell_type": "code",
   "execution_count": 20,
   "metadata": {},
   "outputs": [],
   "source": [
    "# missing data presumably due to lack of a pool\n",
    "td['PoolQC'] = td['PoolQC'].fillna('None')"
   ]
  },
  {
   "cell_type": "code",
   "execution_count": 21,
   "metadata": {},
   "outputs": [
    {
     "data": {
      "text/plain": [
       "None    2909\n",
       "Gd         4\n",
       "Ex         4\n",
       "Fa         2\n",
       "Name: PoolQC, dtype: int64"
      ]
     },
     "execution_count": 21,
     "metadata": {},
     "output_type": "execute_result"
    }
   ],
   "source": [
    "td.PoolQC.value_counts(dropna=False)"
   ]
  },
  {
   "cell_type": "code",
   "execution_count": 22,
   "metadata": {},
   "outputs": [
    {
     "data": {
      "text/plain": [
       "'MiscFeature'"
      ]
     },
     "execution_count": 22,
     "metadata": {},
     "output_type": "execute_result"
    }
   ],
   "source": [
    "next(nan_cols)"
   ]
  },
  {
   "cell_type": "markdown",
   "metadata": {},
   "source": [
    "###### MiscFeature"
   ]
  },
  {
   "cell_type": "code",
   "execution_count": 23,
   "metadata": {},
   "outputs": [
    {
     "data": {
      "text/plain": [
       "NaN     2814\n",
       "Shed      95\n",
       "Gar2       5\n",
       "Othr       4\n",
       "TenC       1\n",
       "Name: MiscFeature, dtype: int64"
      ]
     },
     "execution_count": 23,
     "metadata": {},
     "output_type": "execute_result"
    }
   ],
   "source": [
    "td['MiscFeature'].value_counts(dropna=False)"
   ]
  },
  {
   "cell_type": "code",
   "execution_count": 24,
   "metadata": {},
   "outputs": [],
   "source": [
    "td['MiscFeature'] = td['MiscFeature'].fillna('None')"
   ]
  },
  {
   "cell_type": "code",
   "execution_count": 25,
   "metadata": {},
   "outputs": [
    {
     "data": {
      "text/plain": [
       "None    2814\n",
       "Shed      95\n",
       "Gar2       5\n",
       "Othr       4\n",
       "TenC       1\n",
       "Name: MiscFeature, dtype: int64"
      ]
     },
     "execution_count": 25,
     "metadata": {},
     "output_type": "execute_result"
    }
   ],
   "source": [
    "td['MiscFeature'].value_counts(dropna=False)"
   ]
  },
  {
   "cell_type": "code",
   "execution_count": 26,
   "metadata": {},
   "outputs": [
    {
     "data": {
      "text/plain": [
       "'Alley'"
      ]
     },
     "execution_count": 26,
     "metadata": {},
     "output_type": "execute_result"
    }
   ],
   "source": [
    "next(nan_cols)"
   ]
  },
  {
   "cell_type": "markdown",
   "metadata": {},
   "source": [
    "###### Alley"
   ]
  },
  {
   "cell_type": "code",
   "execution_count": 27,
   "metadata": {},
   "outputs": [
    {
     "data": {
      "text/plain": [
       "NaN     2721\n",
       "Grvl     120\n",
       "Pave      78\n",
       "Name: Alley, dtype: int64"
      ]
     },
     "execution_count": 27,
     "metadata": {},
     "output_type": "execute_result"
    }
   ],
   "source": [
    "td['Alley'].value_counts(dropna=False)"
   ]
  },
  {
   "cell_type": "code",
   "execution_count": 28,
   "metadata": {},
   "outputs": [],
   "source": [
    "td['Alley'] = td['Alley'].fillna('None')"
   ]
  },
  {
   "cell_type": "code",
   "execution_count": 29,
   "metadata": {},
   "outputs": [
    {
     "data": {
      "text/plain": [
       "None    2721\n",
       "Grvl     120\n",
       "Pave      78\n",
       "Name: Alley, dtype: int64"
      ]
     },
     "execution_count": 29,
     "metadata": {},
     "output_type": "execute_result"
    }
   ],
   "source": [
    "td['Alley'].value_counts(dropna=False)"
   ]
  },
  {
   "cell_type": "code",
   "execution_count": 30,
   "metadata": {},
   "outputs": [
    {
     "data": {
      "text/plain": [
       "'Fence'"
      ]
     },
     "execution_count": 30,
     "metadata": {},
     "output_type": "execute_result"
    }
   ],
   "source": [
    "next(nan_cols)"
   ]
  },
  {
   "cell_type": "markdown",
   "metadata": {},
   "source": [
    "###### Fence"
   ]
  },
  {
   "cell_type": "code",
   "execution_count": 31,
   "metadata": {},
   "outputs": [
    {
     "data": {
      "text/plain": [
       "NaN      2348\n",
       "MnPrv     329\n",
       "GdPrv     118\n",
       "GdWo      112\n",
       "MnWw       12\n",
       "Name: Fence, dtype: int64"
      ]
     },
     "execution_count": 31,
     "metadata": {},
     "output_type": "execute_result"
    }
   ],
   "source": [
    "td['Fence'].value_counts(dropna=False)"
   ]
  },
  {
   "cell_type": "code",
   "execution_count": 32,
   "metadata": {},
   "outputs": [],
   "source": [
    "td['Fence'] = td['Fence'].fillna('None')"
   ]
  },
  {
   "cell_type": "code",
   "execution_count": 33,
   "metadata": {},
   "outputs": [
    {
     "data": {
      "text/plain": [
       "None     2348\n",
       "MnPrv     329\n",
       "GdPrv     118\n",
       "GdWo      112\n",
       "MnWw       12\n",
       "Name: Fence, dtype: int64"
      ]
     },
     "execution_count": 33,
     "metadata": {},
     "output_type": "execute_result"
    }
   ],
   "source": [
    "td['Fence'].value_counts(dropna=False)"
   ]
  },
  {
   "cell_type": "code",
   "execution_count": 34,
   "metadata": {},
   "outputs": [
    {
     "data": {
      "text/plain": [
       "'FireplaceQu'"
      ]
     },
     "execution_count": 34,
     "metadata": {},
     "output_type": "execute_result"
    }
   ],
   "source": [
    "next(nan_cols)"
   ]
  },
  {
   "cell_type": "markdown",
   "metadata": {},
   "source": [
    "###### FireplaceQu"
   ]
  },
  {
   "cell_type": "code",
   "execution_count": 35,
   "metadata": {},
   "outputs": [
    {
     "data": {
      "text/plain": [
       "NaN    1420\n",
       "Gd      744\n",
       "TA      592\n",
       "Fa       74\n",
       "Po       46\n",
       "Ex       43\n",
       "Name: FireplaceQu, dtype: int64"
      ]
     },
     "execution_count": 35,
     "metadata": {},
     "output_type": "execute_result"
    }
   ],
   "source": [
    "td['FireplaceQu'].value_counts(dropna=False)"
   ]
  },
  {
   "cell_type": "code",
   "execution_count": 36,
   "metadata": {},
   "outputs": [],
   "source": [
    "td['FireplaceQu'] = td['FireplaceQu'].fillna('None')"
   ]
  },
  {
   "cell_type": "code",
   "execution_count": 37,
   "metadata": {},
   "outputs": [
    {
     "data": {
      "text/plain": [
       "None    1420\n",
       "Gd       744\n",
       "TA       592\n",
       "Fa        74\n",
       "Po        46\n",
       "Ex        43\n",
       "Name: FireplaceQu, dtype: int64"
      ]
     },
     "execution_count": 37,
     "metadata": {},
     "output_type": "execute_result"
    }
   ],
   "source": [
    "td['FireplaceQu'].value_counts(dropna=False)"
   ]
  },
  {
   "cell_type": "code",
   "execution_count": 38,
   "metadata": {},
   "outputs": [
    {
     "data": {
      "text/plain": [
       "'LotFrontage'"
      ]
     },
     "execution_count": 38,
     "metadata": {},
     "output_type": "execute_result"
    }
   ],
   "source": [
    "next(nan_cols)"
   ]
  },
  {
   "cell_type": "markdown",
   "metadata": {},
   "source": [
    "###### LotFrontage"
   ]
  },
  {
   "cell_type": "code",
   "execution_count": 39,
   "metadata": {},
   "outputs": [
    {
     "data": {
      "text/plain": [
       "NaN      486\n",
       "60.0     276\n",
       "80.0     137\n",
       "70.0     133\n",
       "50.0     117\n",
       "        ... \n",
       "155.0      1\n",
       "141.0      1\n",
       "136.0      1\n",
       "28.0       1\n",
       "137.0      1\n",
       "Name: LotFrontage, Length: 129, dtype: int64"
      ]
     },
     "execution_count": 39,
     "metadata": {},
     "output_type": "execute_result"
    }
   ],
   "source": [
    "td['LotFrontage'].value_counts(dropna=False)"
   ]
  },
  {
   "cell_type": "code",
   "execution_count": 40,
   "metadata": {},
   "outputs": [
    {
     "data": {
      "text/plain": [
       "<seaborn.axisgrid.FacetGrid at 0x133a3f668>"
      ]
     },
     "execution_count": 40,
     "metadata": {},
     "output_type": "execute_result"
    },
    {
     "data": {
      "image/png": "[encoded data removed]",
      "text/plain": [
       "<Figure size 750x750 with 1 Axes>"
      ]
     },
     "metadata": {
      "needs_background": "light"
     },
     "output_type": "display_data"
    }
   ],
   "source": [
    "sns.lmplot(x='LotFrontage', y='SalePrice', data=train)"
   ]
  },
  {
   "cell_type": "code",
   "execution_count": 41,
   "metadata": {},
   "outputs": [
    {
     "data": {
      "text/plain": [
       "Int64Index([934, 1298], dtype='int64')"
      ]
     },
     "execution_count": 41,
     "metadata": {},
     "output_type": "execute_result"
    }
   ],
   "source": [
    "# remove outliers\n",
    "# first make sure that the points removed are from the training set\n",
    "td[td['LotFrontage']>300].index"
   ]
  },
  {
   "cell_type": "code",
   "execution_count": 42,
   "metadata": {},
   "outputs": [],
   "source": [
    "td = td.drop(td[td['LotFrontage'] > 300].index)\n",
    "train = train.drop(train[train['LotFrontage'] > 300].index)"
   ]
  },
  {
   "cell_type": "code",
   "execution_count": 43,
   "metadata": {},
   "outputs": [
    {
     "data": {
      "text/plain": [
       "<seaborn.axisgrid.FacetGrid at 0x135cfff98>"
      ]
     },
     "execution_count": 43,
     "metadata": {},
     "output_type": "execute_result"
    },
    {
     "data": {
      "image/png": "[encoded data removed]",
      "text/plain": [
       "<Figure size 750x750 with 1 Axes>"
      ]
     },
     "metadata": {
      "needs_background": "light"
     },
     "output_type": "display_data"
    }
   ],
   "source": [
    "sns.lmplot(x='LotFrontage', y='SalePrice', data=train)"
   ]
  },
  {
   "cell_type": "code",
   "execution_count": 44,
   "metadata": {},
   "outputs": [
    {
     "data": {
      "text/plain": [
       "NaN      486\n",
       "60.0     276\n",
       "80.0     137\n",
       "70.0     133\n",
       "50.0     117\n",
       "        ... \n",
       "153.0      1\n",
       "195.0      1\n",
       "119.0      1\n",
       "137.0      1\n",
       "152.0      1\n",
       "Name: LotFrontage, Length: 128, dtype: int64"
      ]
     },
     "execution_count": 44,
     "metadata": {},
     "output_type": "execute_result"
    }
   ],
   "source": [
    "td['LotFrontage'].value_counts(dropna=False)"
   ]
  },
  {
   "cell_type": "code",
   "execution_count": 45,
   "metadata": {},
   "outputs": [
    {
     "data": {
      "text/plain": [
       "<seaborn.axisgrid.FacetGrid at 0x136112438>"
      ]
     },
     "execution_count": 45,
     "metadata": {},
     "output_type": "execute_result"
    },
    {
     "data": {
      "image/png": "[encoded data removed]",
      "text/plain": [
       "<Figure size 750x750 with 1 Axes>"
      ]
     },
     "metadata": {
      "needs_background": "light"
     },
     "output_type": "display_data"
    }
   ],
   "source": [
    "sns.lmplot(y='LotFrontage', x='LotArea', data=td)"
   ]
  },
  {
   "cell_type": "code",
   "execution_count": 46,
   "metadata": {},
   "outputs": [
    {
     "data": {
      "text/plain": [
       "Int64Index([313], dtype='int64')"
      ]
     },
     "execution_count": 46,
     "metadata": {},
     "output_type": "execute_result"
    }
   ],
   "source": [
    "td[td['LotArea']>200000].index"
   ]
  },
  {
   "cell_type": "code",
   "execution_count": 47,
   "metadata": {},
   "outputs": [
    {
     "data": {
      "text/plain": [
       "<seaborn.axisgrid.FacetGrid at 0x1363ea518>"
      ]
     },
     "execution_count": 47,
     "metadata": {},
     "output_type": "execute_result"
    },
    {
     "data": {
      "image/png": "[encoded data removed]",
      "text/plain": [
       "<Figure size 750x750 with 1 Axes>"
      ]
     },
     "metadata": {
      "needs_background": "light"
     },
     "output_type": "display_data"
    }
   ],
   "source": [
    "# remove outlier\n",
    "td_impute_lotfrontage = td.copy().drop(td[td['LotArea'] > 200000].index)\n",
    "train = train.drop([313])\n",
    "td=td.drop(td[td['LotArea']>200000].index)\n",
    "sns.lmplot(y='LotFrontage', x='LotArea', data=td_impute_lotfrontage)"
   ]
  },
  {
   "cell_type": "code",
   "execution_count": 48,
   "metadata": {},
   "outputs": [],
   "source": [
    "# after removing the outlier, the correlation between the two is still unsatisfactory\n",
    "# use the median value of the corresponding neighborhood to impute, since commonsensically these two are related\n",
    "td['LotFrontage'] = td.groupby('Neighborhood')['LotFrontage'].transform(lambda x: x.fillna(x.median()))"
   ]
  },
  {
   "cell_type": "code",
   "execution_count": 49,
   "metadata": {},
   "outputs": [
    {
     "data": {
      "text/plain": [
       "<matplotlib.axes._subplots.AxesSubplot at 0x135dd6c50>"
      ]
     },
     "execution_count": 49,
     "metadata": {},
     "output_type": "execute_result"
    },
    {
     "data": {
      "image/png": "[encoded data removed]",
      "text/plain": [
       "<Figure size 900x600 with 1 Axes>"
      ]
     },
     "metadata": {
      "needs_background": "light"
     },
     "output_type": "display_data"
    }
   ],
   "source": [
    "sns.distplot(td['LotFrontage'])"
   ]
  },
  {
   "cell_type": "code",
   "execution_count": 50,
   "metadata": {},
   "outputs": [
    {
     "data": {
      "text/plain": [
       "'GarageFinish'"
      ]
     },
     "execution_count": 50,
     "metadata": {},
     "output_type": "execute_result"
    }
   ],
   "source": [
    "next(nan_cols)"
   ]
  },
  {
   "cell_type": "markdown",
   "metadata": {},
   "source": [
    "###### GarageFinish"
   ]
  },
  {
   "cell_type": "code",
   "execution_count": 51,
   "metadata": {},
   "outputs": [
    {
     "data": {
      "text/plain": [
       "Unf    1230\n",
       "RFn     809\n",
       "Fin     718\n",
       "NaN     159\n",
       "Name: GarageFinish, dtype: int64"
      ]
     },
     "execution_count": 51,
     "metadata": {},
     "output_type": "execute_result"
    }
   ],
   "source": [
    "td.GarageFinish.value_counts(dropna=False)"
   ]
  },
  {
   "cell_type": "code",
   "execution_count": 52,
   "metadata": {},
   "outputs": [],
   "source": [
    "# no satisfactory result from correlation matrix; impute with 'None' since missing values \n",
    "# are missing most likely due to the lack of a garage\n",
    "td['GarageFinish'] = td['GarageFinish'].fillna('None')"
   ]
  },
  {
   "cell_type": "code",
   "execution_count": 53,
   "metadata": {},
   "outputs": [
    {
     "data": {
      "text/plain": [
       "Unf     1230\n",
       "RFn      809\n",
       "Fin      718\n",
       "None     159\n",
       "Name: GarageFinish, dtype: int64"
      ]
     },
     "execution_count": 53,
     "metadata": {},
     "output_type": "execute_result"
    }
   ],
   "source": [
    "td['GarageFinish'].value_counts()"
   ]
  },
  {
   "cell_type": "code",
   "execution_count": 54,
   "metadata": {},
   "outputs": [
    {
     "data": {
      "text/plain": [
       "'GarageYrBlt'"
      ]
     },
     "execution_count": 54,
     "metadata": {},
     "output_type": "execute_result"
    }
   ],
   "source": [
    "next(nan_cols)"
   ]
  },
  {
   "cell_type": "markdown",
   "metadata": {},
   "source": [
    "###### GarageYrBlt"
   ]
  },
  {
   "cell_type": "code",
   "execution_count": 55,
   "metadata": {},
   "outputs": [],
   "source": [
    "# missing most likely due to absence of garage\n",
    "td['GarageYrBlt'] = td['GarageYrBlt'].fillna('None')"
   ]
  },
  {
   "cell_type": "code",
   "execution_count": 56,
   "metadata": {},
   "outputs": [
    {
     "data": {
      "text/plain": [
       "'GarageQual'"
      ]
     },
     "execution_count": 56,
     "metadata": {},
     "output_type": "execute_result"
    }
   ],
   "source": [
    "next(nan_cols)"
   ]
  },
  {
   "cell_type": "markdown",
   "metadata": {},
   "source": [
    "###### GarageQual"
   ]
  },
  {
   "cell_type": "code",
   "execution_count": 57,
   "metadata": {},
   "outputs": [],
   "source": [
    "td['GarageQual'] = td['GarageQual'].fillna('None')"
   ]
  },
  {
   "cell_type": "code",
   "execution_count": 58,
   "metadata": {},
   "outputs": [
    {
     "data": {
      "text/plain": [
       "'GarageCond'"
      ]
     },
     "execution_count": 58,
     "metadata": {},
     "output_type": "execute_result"
    }
   ],
   "source": [
    "next(nan_cols)"
   ]
  },
  {
   "cell_type": "markdown",
   "metadata": {},
   "source": [
    "###### GarageCond"
   ]
  },
  {
   "cell_type": "code",
   "execution_count": 59,
   "metadata": {},
   "outputs": [],
   "source": [
    "td['GarageCond'] = td['GarageCond'].fillna('None')"
   ]
  },
  {
   "cell_type": "code",
   "execution_count": 60,
   "metadata": {},
   "outputs": [
    {
     "data": {
      "text/plain": [
       "'GarageType'"
      ]
     },
     "execution_count": 60,
     "metadata": {},
     "output_type": "execute_result"
    }
   ],
   "source": [
    "next(nan_cols)"
   ]
  },
  {
   "cell_type": "markdown",
   "metadata": {},
   "source": [
    "###### GarageType"
   ]
  },
  {
   "cell_type": "code",
   "execution_count": 61,
   "metadata": {},
   "outputs": [],
   "source": [
    "td['GarageType'] = td['GarageType'].fillna('None')"
   ]
  },
  {
   "cell_type": "code",
   "execution_count": 62,
   "metadata": {},
   "outputs": [
    {
     "data": {
      "text/plain": [
       "'BsmtExposure'"
      ]
     },
     "execution_count": 62,
     "metadata": {},
     "output_type": "execute_result"
    }
   ],
   "source": [
    "next(nan_cols)"
   ]
  },
  {
   "cell_type": "markdown",
   "metadata": {},
   "source": [
    "###### BsmtExposure"
   ]
  },
  {
   "cell_type": "code",
   "execution_count": 63,
   "metadata": {},
   "outputs": [
    {
     "data": {
      "text/plain": [
       "No     1904\n",
       "Av      418\n",
       "Gd      273\n",
       "Mn      239\n",
       "NaN      82\n",
       "Name: BsmtExposure, dtype: int64"
      ]
     },
     "execution_count": 63,
     "metadata": {},
     "output_type": "execute_result"
    }
   ],
   "source": [
    "td['BsmtExposure'].value_counts(dropna=False)"
   ]
  },
  {
   "cell_type": "code",
   "execution_count": 64,
   "metadata": {},
   "outputs": [],
   "source": [
    "# impute with 'None' since percentage missing is small and are missing likely due to absence of a basement\n",
    "td['BsmtExposure'] = td['BsmtExposure'] .fillna('None')"
   ]
  },
  {
   "cell_type": "code",
   "execution_count": 65,
   "metadata": {},
   "outputs": [
    {
     "data": {
      "text/plain": [
       "'BsmtCond'"
      ]
     },
     "execution_count": 65,
     "metadata": {},
     "output_type": "execute_result"
    }
   ],
   "source": [
    "next(nan_cols)"
   ]
  },
  {
   "cell_type": "markdown",
   "metadata": {},
   "source": [
    "###### BsmtCond"
   ]
  },
  {
   "cell_type": "code",
   "execution_count": 66,
   "metadata": {},
   "outputs": [],
   "source": [
    "td['BsmtCond'] = td['BsmtCond'].fillna('None')"
   ]
  },
  {
   "cell_type": "code",
   "execution_count": 67,
   "metadata": {},
   "outputs": [
    {
     "data": {
      "text/plain": [
       "'BsmtQual'"
      ]
     },
     "execution_count": 67,
     "metadata": {},
     "output_type": "execute_result"
    }
   ],
   "source": [
    "next(nan_cols)"
   ]
  },
  {
   "cell_type": "markdown",
   "metadata": {},
   "source": [
    "###### BsmtQual"
   ]
  },
  {
   "cell_type": "code",
   "execution_count": 68,
   "metadata": {},
   "outputs": [],
   "source": [
    "td['BsmtQual'] = td['BsmtQual'].fillna('None')"
   ]
  },
  {
   "cell_type": "code",
   "execution_count": 69,
   "metadata": {},
   "outputs": [
    {
     "data": {
      "text/plain": [
       "'BsmtFinType2'"
      ]
     },
     "execution_count": 69,
     "metadata": {},
     "output_type": "execute_result"
    }
   ],
   "source": [
    "next(nan_cols)"
   ]
  },
  {
   "cell_type": "markdown",
   "metadata": {},
   "source": [
    "###### BsmtFinType2"
   ]
  },
  {
   "cell_type": "code",
   "execution_count": 70,
   "metadata": {},
   "outputs": [],
   "source": [
    "td['BsmtFinType2'] = td['BsmtFinType2'].fillna('None')"
   ]
  },
  {
   "cell_type": "code",
   "execution_count": 71,
   "metadata": {},
   "outputs": [
    {
     "data": {
      "text/plain": [
       "'BsmtFinType1'"
      ]
     },
     "execution_count": 71,
     "metadata": {},
     "output_type": "execute_result"
    }
   ],
   "source": [
    "next(nan_cols)"
   ]
  },
  {
   "cell_type": "markdown",
   "metadata": {},
   "source": [
    "###### BsmtFinType1"
   ]
  },
  {
   "cell_type": "code",
   "execution_count": 72,
   "metadata": {},
   "outputs": [],
   "source": [
    "td['BsmtFinType1'] = td['BsmtFinType1'].fillna('None')"
   ]
  },
  {
   "cell_type": "code",
   "execution_count": 73,
   "metadata": {},
   "outputs": [
    {
     "data": {
      "text/plain": [
       "'MasVnrType'"
      ]
     },
     "execution_count": 73,
     "metadata": {},
     "output_type": "execute_result"
    }
   ],
   "source": [
    "next(nan_cols)"
   ]
  },
  {
   "cell_type": "markdown",
   "metadata": {},
   "source": [
    "###### MasVnrType"
   ]
  },
  {
   "cell_type": "code",
   "execution_count": 74,
   "metadata": {},
   "outputs": [
    {
     "data": {
      "text/plain": [
       "None       1740\n",
       "BrkFace     879\n",
       "Stone       248\n",
       "BrkCmn       25\n",
       "NaN          24\n",
       "Name: MasVnrType, dtype: int64"
      ]
     },
     "execution_count": 74,
     "metadata": {},
     "output_type": "execute_result"
    }
   ],
   "source": [
    "td['MasVnrType'].value_counts(dropna=False)"
   ]
  },
  {
   "cell_type": "code",
   "execution_count": 75,
   "metadata": {},
   "outputs": [],
   "source": [
    "td['MasVnrType'] = td['MasVnrType'].fillna('None')"
   ]
  },
  {
   "cell_type": "code",
   "execution_count": 76,
   "metadata": {},
   "outputs": [
    {
     "data": {
      "text/plain": [
       "'MasVnrArea'"
      ]
     },
     "execution_count": 76,
     "metadata": {},
     "output_type": "execute_result"
    }
   ],
   "source": [
    "next(nan_cols)"
   ]
  },
  {
   "cell_type": "markdown",
   "metadata": {},
   "source": [
    "###### MasVnrArea"
   ]
  },
  {
   "cell_type": "code",
   "execution_count": 77,
   "metadata": {},
   "outputs": [],
   "source": [
    "td['MasVnrArea'] = td['MasVnrArea'].fillna(0)"
   ]
  },
  {
   "cell_type": "code",
   "execution_count": 78,
   "metadata": {},
   "outputs": [
    {
     "data": {
      "text/plain": [
       "'MSZoning'"
      ]
     },
     "execution_count": 78,
     "metadata": {},
     "output_type": "execute_result"
    }
   ],
   "source": [
    "next(nan_cols)"
   ]
  },
  {
   "cell_type": "markdown",
   "metadata": {},
   "source": [
    "###### MSZoning"
   ]
  },
  {
   "cell_type": "code",
   "execution_count": 79,
   "metadata": {},
   "outputs": [
    {
     "data": {
      "text/plain": [
       "RL         2262\n",
       "RM          460\n",
       "FV          139\n",
       "RH           26\n",
       "C (all)      25\n",
       "NaN           4\n",
       "Name: MSZoning, dtype: int64"
      ]
     },
     "execution_count": 79,
     "metadata": {},
     "output_type": "execute_result"
    }
   ],
   "source": [
    "td['MSZoning'].value_counts(dropna=False)"
   ]
  },
  {
   "cell_type": "code",
   "execution_count": 80,
   "metadata": {},
   "outputs": [],
   "source": [
    "# fill with RL (mode)\n",
    "td['MSZoning'] = td['MSZoning'].fillna('RL')"
   ]
  },
  {
   "cell_type": "code",
   "execution_count": 81,
   "metadata": {},
   "outputs": [
    {
     "data": {
      "text/plain": [
       "'BsmtFullBath'"
      ]
     },
     "execution_count": 81,
     "metadata": {},
     "output_type": "execute_result"
    }
   ],
   "source": [
    "next(nan_cols)"
   ]
  },
  {
   "cell_type": "markdown",
   "metadata": {},
   "source": [
    "###### BsmtFullBath"
   ]
  },
  {
   "cell_type": "code",
   "execution_count": 82,
   "metadata": {},
   "outputs": [
    {
     "data": {
      "text/plain": [
       "0.0    1705\n",
       "1.0    1171\n",
       "2.0      36\n",
       "NaN       2\n",
       "3.0       2\n",
       "Name: BsmtFullBath, dtype: int64"
      ]
     },
     "execution_count": 82,
     "metadata": {},
     "output_type": "execute_result"
    }
   ],
   "source": [
    "td['BsmtFullBath'].value_counts(dropna=False)"
   ]
  },
  {
   "cell_type": "code",
   "execution_count": 83,
   "metadata": {},
   "outputs": [],
   "source": [
    "# fill with 0\n",
    "td['BsmtFullBath'] = td['BsmtFullBath'].fillna(0)"
   ]
  },
  {
   "cell_type": "code",
   "execution_count": 84,
   "metadata": {},
   "outputs": [
    {
     "data": {
      "text/plain": [
       "'BsmtHalfBath'"
      ]
     },
     "execution_count": 84,
     "metadata": {},
     "output_type": "execute_result"
    }
   ],
   "source": [
    "next(nan_cols)"
   ]
  },
  {
   "cell_type": "markdown",
   "metadata": {},
   "source": [
    "###### BsmtHalfBath"
   ]
  },
  {
   "cell_type": "code",
   "execution_count": 85,
   "metadata": {},
   "outputs": [
    {
     "data": {
      "text/plain": [
       "0.0    2739\n",
       "1.0     171\n",
       "2.0       4\n",
       "NaN       2\n",
       "Name: BsmtHalfBath, dtype: int64"
      ]
     },
     "execution_count": 85,
     "metadata": {},
     "output_type": "execute_result"
    }
   ],
   "source": [
    "td['BsmtHalfBath'].value_counts(dropna=False)"
   ]
  },
  {
   "cell_type": "code",
   "execution_count": 86,
   "metadata": {},
   "outputs": [],
   "source": [
    "td['BsmtHalfBath'] = td['BsmtHalfBath'].fillna(0)"
   ]
  },
  {
   "cell_type": "code",
   "execution_count": 87,
   "metadata": {},
   "outputs": [
    {
     "data": {
      "text/plain": [
       "'Utilities'"
      ]
     },
     "execution_count": 87,
     "metadata": {},
     "output_type": "execute_result"
    }
   ],
   "source": [
    "next(nan_cols)"
   ]
  },
  {
   "cell_type": "markdown",
   "metadata": {},
   "source": [
    "###### Utilities"
   ]
  },
  {
   "cell_type": "code",
   "execution_count": 88,
   "metadata": {},
   "outputs": [
    {
     "data": {
      "text/plain": [
       "AllPub    2913\n",
       "NaN          2\n",
       "NoSeWa       1\n",
       "Name: Utilities, dtype: int64"
      ]
     },
     "execution_count": 88,
     "metadata": {},
     "output_type": "execute_result"
    }
   ],
   "source": [
    "td['Utilities'].value_counts(dropna=False)"
   ]
  },
  {
   "cell_type": "code",
   "execution_count": 89,
   "metadata": {},
   "outputs": [],
   "source": [
    "# fill with mode\n",
    "td['Utilities'] = td['Utilities'].fillna('AllPub')"
   ]
  },
  {
   "cell_type": "code",
   "execution_count": 90,
   "metadata": {},
   "outputs": [
    {
     "data": {
      "text/plain": [
       "'Functional'"
      ]
     },
     "execution_count": 90,
     "metadata": {},
     "output_type": "execute_result"
    }
   ],
   "source": [
    "next(nan_cols)"
   ]
  },
  {
   "cell_type": "markdown",
   "metadata": {},
   "source": [
    "###### Functional"
   ]
  },
  {
   "cell_type": "code",
   "execution_count": 91,
   "metadata": {},
   "outputs": [
    {
     "data": {
      "text/plain": [
       "Typ     2714\n",
       "Min2      70\n",
       "Min1      65\n",
       "Mod       35\n",
       "Maj1      19\n",
       "Maj2       9\n",
       "Sev        2\n",
       "NaN        2\n",
       "Name: Functional, dtype: int64"
      ]
     },
     "execution_count": 91,
     "metadata": {},
     "output_type": "execute_result"
    }
   ],
   "source": [
    "td['Functional'].value_counts(dropna=False)"
   ]
  },
  {
   "cell_type": "code",
   "execution_count": 92,
   "metadata": {},
   "outputs": [],
   "source": [
    "# fill with Typ as per data description\n",
    "td['Functional'] = td['Functional'].fillna('Typ')"
   ]
  },
  {
   "cell_type": "code",
   "execution_count": 93,
   "metadata": {},
   "outputs": [
    {
     "data": {
      "text/plain": [
       "'Exterior2nd'"
      ]
     },
     "execution_count": 93,
     "metadata": {},
     "output_type": "execute_result"
    }
   ],
   "source": [
    "next(nan_cols)"
   ]
  },
  {
   "cell_type": "markdown",
   "metadata": {},
   "source": [
    "###### Exterior2nd"
   ]
  },
  {
   "cell_type": "code",
   "execution_count": 94,
   "metadata": {},
   "outputs": [
    {
     "data": {
      "text/plain": [
       "VinylSd    1014\n",
       "MetalSd     447\n",
       "HdBoard     406\n",
       "Wd Sdng     390\n",
       "Plywood     270\n",
       "CmentBd     126\n",
       "Wd Shng      81\n",
       "BrkFace      46\n",
       "Stucco       46\n",
       "AsbShng      38\n",
       "Brk Cmn      22\n",
       "ImStucc      15\n",
       "Stone         6\n",
       "AsphShn       4\n",
       "CBlock        3\n",
       "Other         1\n",
       "NaN           1\n",
       "Name: Exterior2nd, dtype: int64"
      ]
     },
     "execution_count": 94,
     "metadata": {},
     "output_type": "execute_result"
    }
   ],
   "source": [
    "td['Exterior2nd'].value_counts(dropna=False)"
   ]
  },
  {
   "cell_type": "code",
   "execution_count": 95,
   "metadata": {},
   "outputs": [],
   "source": [
    "td['Exterior2nd'] = td['Exterior2nd'].fillna('VinylSd')"
   ]
  },
  {
   "cell_type": "code",
   "execution_count": 96,
   "metadata": {},
   "outputs": [
    {
     "data": {
      "text/plain": [
       "'Exterior1st'"
      ]
     },
     "execution_count": 96,
     "metadata": {},
     "output_type": "execute_result"
    }
   ],
   "source": [
    "next(nan_cols)"
   ]
  },
  {
   "cell_type": "markdown",
   "metadata": {},
   "source": [
    "###### Exterior1st"
   ]
  },
  {
   "cell_type": "code",
   "execution_count": 97,
   "metadata": {},
   "outputs": [
    {
     "data": {
      "text/plain": [
       "VinylSd    1025\n",
       "MetalSd     450\n",
       "HdBoard     442\n",
       "Wd Sdng     410\n",
       "Plywood     221\n",
       "CemntBd     126\n",
       "BrkFace      86\n",
       "WdShing      56\n",
       "AsbShng      44\n",
       "Stucco       42\n",
       "BrkComm       6\n",
       "Stone         2\n",
       "AsphShn       2\n",
       "CBlock        2\n",
       "ImStucc       1\n",
       "NaN           1\n",
       "Name: Exterior1st, dtype: int64"
      ]
     },
     "execution_count": 97,
     "metadata": {},
     "output_type": "execute_result"
    }
   ],
   "source": [
    "td['Exterior1st'].value_counts(dropna=False)"
   ]
  },
  {
   "cell_type": "code",
   "execution_count": 98,
   "metadata": {},
   "outputs": [],
   "source": [
    "td['Exterior1st'] = td['Exterior1st'].fillna('VinylSd')"
   ]
  },
  {
   "cell_type": "code",
   "execution_count": 99,
   "metadata": {},
   "outputs": [
    {
     "data": {
      "text/plain": [
       "'SaleType'"
      ]
     },
     "execution_count": 99,
     "metadata": {},
     "output_type": "execute_result"
    }
   ],
   "source": [
    "next(nan_cols)"
   ]
  },
  {
   "cell_type": "markdown",
   "metadata": {},
   "source": [
    "###### SaleType"
   ]
  },
  {
   "cell_type": "code",
   "execution_count": 100,
   "metadata": {},
   "outputs": [
    {
     "data": {
      "text/plain": [
       "WD       2523\n",
       "New       238\n",
       "COD        87\n",
       "ConLD      26\n",
       "CWD        12\n",
       "ConLI       9\n",
       "ConLw       8\n",
       "Oth         7\n",
       "Con         5\n",
       "NaN         1\n",
       "Name: SaleType, dtype: int64"
      ]
     },
     "execution_count": 100,
     "metadata": {},
     "output_type": "execute_result"
    }
   ],
   "source": [
    "td['SaleType'].value_counts(dropna=False)"
   ]
  },
  {
   "cell_type": "code",
   "execution_count": 101,
   "metadata": {},
   "outputs": [],
   "source": [
    "td['SaleType'] = td['SaleType'].fillna('WD')"
   ]
  },
  {
   "cell_type": "code",
   "execution_count": 102,
   "metadata": {},
   "outputs": [
    {
     "data": {
      "text/plain": [
       "'BsmtFinSF1'"
      ]
     },
     "execution_count": 102,
     "metadata": {},
     "output_type": "execute_result"
    }
   ],
   "source": [
    "next(nan_cols)"
   ]
  },
  {
   "cell_type": "markdown",
   "metadata": {},
   "source": [
    "###### BsmtFinSF1, BsmtFinSF2 and BsmtUnfSF"
   ]
  },
  {
   "cell_type": "code",
   "execution_count": 103,
   "metadata": {},
   "outputs": [
    {
     "data": {
      "text/plain": [
       "0.0       929\n",
       "24.0       27\n",
       "16.0       14\n",
       "300.0       9\n",
       "20.0        8\n",
       "         ... \n",
       "1158.0      1\n",
       "1122.0      1\n",
       "1022.0      1\n",
       "939.0       1\n",
       "1106.0      1\n",
       "Name: BsmtFinSF1, Length: 990, dtype: int64"
      ]
     },
     "execution_count": 103,
     "metadata": {},
     "output_type": "execute_result"
    }
   ],
   "source": [
    "td['BsmtFinSF1'].value_counts(dropna=False)"
   ]
  },
  {
   "cell_type": "code",
   "execution_count": 104,
   "metadata": {},
   "outputs": [],
   "source": [
    "td['BsmtFinSF1'] = td['BsmtFinSF1'].fillna(0.0)"
   ]
  },
  {
   "cell_type": "code",
   "execution_count": 105,
   "metadata": {},
   "outputs": [
    {
     "data": {
      "text/plain": [
       "'BsmtFinSF2'"
      ]
     },
     "execution_count": 105,
     "metadata": {},
     "output_type": "execute_result"
    }
   ],
   "source": [
    "next(nan_cols)"
   ]
  },
  {
   "cell_type": "code",
   "execution_count": 106,
   "metadata": {},
   "outputs": [],
   "source": [
    "td['BsmtFinSF2'] = td['BsmtFinSF2'].fillna(0.0)"
   ]
  },
  {
   "cell_type": "code",
   "execution_count": 107,
   "metadata": {},
   "outputs": [
    {
     "data": {
      "text/plain": [
       "'BsmtUnfSF'"
      ]
     },
     "execution_count": 107,
     "metadata": {},
     "output_type": "execute_result"
    }
   ],
   "source": [
    "next(nan_cols)"
   ]
  },
  {
   "cell_type": "code",
   "execution_count": 108,
   "metadata": {},
   "outputs": [],
   "source": [
    "td['BsmtUnfSF'] = td['BsmtUnfSF'].fillna(0.0)"
   ]
  },
  {
   "cell_type": "code",
   "execution_count": 109,
   "metadata": {},
   "outputs": [
    {
     "data": {
      "text/plain": [
       "'Electrical'"
      ]
     },
     "execution_count": 109,
     "metadata": {},
     "output_type": "execute_result"
    }
   ],
   "source": [
    "next(nan_cols)"
   ]
  },
  {
   "cell_type": "markdown",
   "metadata": {},
   "source": [
    "###### Electrical"
   ]
  },
  {
   "cell_type": "code",
   "execution_count": 110,
   "metadata": {},
   "outputs": [
    {
     "data": {
      "text/plain": [
       "SBrkr    2668\n",
       "FuseA     188\n",
       "FuseF      50\n",
       "FuseP       8\n",
       "Mix         1\n",
       "NaN         1\n",
       "Name: Electrical, dtype: int64"
      ]
     },
     "execution_count": 110,
     "metadata": {},
     "output_type": "execute_result"
    }
   ],
   "source": [
    "td['Electrical'].value_counts(dropna=False)"
   ]
  },
  {
   "cell_type": "code",
   "execution_count": 111,
   "metadata": {},
   "outputs": [],
   "source": [
    "td['Electrical'] = td['Electrical'].fillna('SBrkr')"
   ]
  },
  {
   "cell_type": "code",
   "execution_count": 112,
   "metadata": {},
   "outputs": [
    {
     "data": {
      "text/plain": [
       "'KitchenQual'"
      ]
     },
     "execution_count": 112,
     "metadata": {},
     "output_type": "execute_result"
    }
   ],
   "source": [
    "next(nan_cols)"
   ]
  },
  {
   "cell_type": "markdown",
   "metadata": {},
   "source": [
    "###### KitchenQual"
   ]
  },
  {
   "cell_type": "code",
   "execution_count": 113,
   "metadata": {},
   "outputs": [
    {
     "data": {
      "text/plain": [
       "TA     1491\n",
       "Gd     1150\n",
       "Ex      204\n",
       "Fa       70\n",
       "NaN       1\n",
       "Name: KitchenQual, dtype: int64"
      ]
     },
     "execution_count": 113,
     "metadata": {},
     "output_type": "execute_result"
    }
   ],
   "source": [
    "td['KitchenQual'].value_counts(dropna=False)"
   ]
  },
  {
   "cell_type": "code",
   "execution_count": 114,
   "metadata": {},
   "outputs": [],
   "source": [
    "td['KitchenQual'] = td['KitchenQual'].fillna('TA')"
   ]
  },
  {
   "cell_type": "code",
   "execution_count": 115,
   "metadata": {},
   "outputs": [
    {
     "data": {
      "text/plain": [
       "'GarageCars'"
      ]
     },
     "execution_count": 115,
     "metadata": {},
     "output_type": "execute_result"
    }
   ],
   "source": [
    "next(nan_cols)"
   ]
  },
  {
   "cell_type": "markdown",
   "metadata": {},
   "source": [
    "###### GarageCars"
   ]
  },
  {
   "cell_type": "code",
   "execution_count": 116,
   "metadata": {},
   "outputs": [
    {
     "data": {
      "text/plain": [
       "2.0    1591\n",
       "1.0     776\n",
       "3.0     374\n",
       "0.0     157\n",
       "4.0      16\n",
       "NaN       1\n",
       "5.0       1\n",
       "Name: GarageCars, dtype: int64"
      ]
     },
     "execution_count": 116,
     "metadata": {},
     "output_type": "execute_result"
    }
   ],
   "source": [
    "td['GarageCars'].value_counts(dropna=False)"
   ]
  },
  {
   "cell_type": "code",
   "execution_count": 117,
   "metadata": {},
   "outputs": [],
   "source": [
    "td['GarageCars'] = td['GarageCars'].fillna(0.0)"
   ]
  },
  {
   "cell_type": "code",
   "execution_count": 118,
   "metadata": {},
   "outputs": [
    {
     "data": {
      "text/plain": [
       "'GarageArea'"
      ]
     },
     "execution_count": 118,
     "metadata": {},
     "output_type": "execute_result"
    }
   ],
   "source": [
    "next(nan_cols)"
   ]
  },
  {
   "cell_type": "markdown",
   "metadata": {},
   "source": [
    "###### GarageArea"
   ]
  },
  {
   "cell_type": "code",
   "execution_count": 119,
   "metadata": {},
   "outputs": [
    {
     "data": {
      "text/plain": [
       "0.0      157\n",
       "576.0     97\n",
       "440.0     96\n",
       "240.0     69\n",
       "484.0     68\n",
       "        ... \n",
       "263.0      1\n",
       "962.0      1\n",
       "186.0      1\n",
       "954.0      1\n",
       "803.0      1\n",
       "Name: GarageArea, Length: 603, dtype: int64"
      ]
     },
     "execution_count": 119,
     "metadata": {},
     "output_type": "execute_result"
    }
   ],
   "source": [
    "td['GarageArea'].value_counts(dropna=False)"
   ]
  },
  {
   "cell_type": "code",
   "execution_count": 120,
   "metadata": {},
   "outputs": [],
   "source": [
    "td['GarageArea'] = td['GarageArea'].fillna(0.0)"
   ]
  },
  {
   "cell_type": "code",
   "execution_count": 121,
   "metadata": {},
   "outputs": [
    {
     "data": {
      "text/plain": [
       "'TotalBsmtSF'"
      ]
     },
     "execution_count": 121,
     "metadata": {},
     "output_type": "execute_result"
    }
   ],
   "source": [
    "next(nan_cols)"
   ]
  },
  {
   "cell_type": "markdown",
   "metadata": {},
   "source": [
    "###### TotalBsmtSF"
   ]
  },
  {
   "cell_type": "code",
   "execution_count": 122,
   "metadata": {},
   "outputs": [
    {
     "data": {
      "text/plain": [
       "0.0       78\n",
       "864.0     74\n",
       "672.0     29\n",
       "912.0     26\n",
       "1040.0    25\n",
       "          ..\n",
       "961.0      1\n",
       "1949.0     1\n",
       "1231.0     1\n",
       "1829.0     1\n",
       "1243.0     1\n",
       "Name: TotalBsmtSF, Length: 1058, dtype: int64"
      ]
     },
     "execution_count": 122,
     "metadata": {},
     "output_type": "execute_result"
    }
   ],
   "source": [
    "td['TotalBsmtSF'].value_counts(dropna=False)"
   ]
  },
  {
   "cell_type": "code",
   "execution_count": 123,
   "metadata": {},
   "outputs": [],
   "source": [
    "td['TotalBsmtSF'] = td['TotalBsmtSF'].fillna(0.0)"
   ]
  },
  {
   "cell_type": "code",
   "execution_count": 124,
   "metadata": {},
   "outputs": [
    {
     "ename": "StopIteration",
     "evalue": "",
     "output_type": "error",
     "traceback": [
      "\u001b[0;31m---------------------------------------------------------------------------\u001b[0m",
      "\u001b[0;31mStopIteration\u001b[0m                             Traceback (most recent call last)",
      "\u001b[0;32m<ipython-input-124-d57754be7354>\u001b[0m in \u001b[0;36m<module>\u001b[0;34m\u001b[0m\n\u001b[0;32m----> 1\u001b[0;31m \u001b[0mnext\u001b[0m\u001b[0;34m(\u001b[0m\u001b[0mnan_cols\u001b[0m\u001b[0;34m)\u001b[0m\u001b[0;34m\u001b[0m\u001b[0;34m\u001b[0m\u001b[0m\n\u001b[0m",
      "\u001b[0;31mStopIteration\u001b[0m: "
     ]
    }
   ],
   "source": [
    "next(nan_cols)"
   ]
  },
  {
   "cell_type": "code",
   "execution_count": null,
   "metadata": {},
   "outputs": [],
   "source": [
    "# end of imputation"
   ]
  },
  {
   "cell_type": "code",
   "execution_count": 125,
   "metadata": {},
   "outputs": [
    {
     "data": {
      "text/plain": [
       "0"
      ]
     },
     "execution_count": 125,
     "metadata": {},
     "output_type": "execute_result"
    }
   ],
   "source": [
    "# check if there is any NaN slipped through\n",
    "td.isna().sum().sum()"
   ]
  },
  {
   "cell_type": "code",
   "execution_count": 126,
   "metadata": {},
   "outputs": [],
   "source": [
    "td = td.drop(['Utilities', 'Street', 'PoolQC', 'OverallQual', 'GrLivArea'], axis=1)"
   ]
  },
  {
   "cell_type": "markdown",
   "metadata": {},
   "source": [
    "###### 2.3. Label Encoding"
   ]
  },
  {
   "cell_type": "code",
   "execution_count": 127,
   "metadata": {},
   "outputs": [],
   "source": [
    "td['haspool'] = td['PoolArea'].apply(lambda x: 1 if x > 0 else 0)\n",
    "td['has2ndfloor'] = td['2ndFlrSF'].apply(lambda x: 1 if x > 0 else 0)\n",
    "td['hasgarage'] = td['GarageArea'].apply(lambda x: 1 if x > 0 else 0)\n",
    "td['hasbsmt'] = td['TotalBsmtSF'].apply(lambda x: 1 if x > 0 else 0)\n",
    "td['hasfireplace'] = td['Fireplaces'].apply(lambda x: 1 if x > 0 else 0)"
   ]
  },
  {
   "cell_type": "code",
   "execution_count": 128,
   "metadata": {},
   "outputs": [],
   "source": [
    "cat_cols = ['MSSubClass', 'MSZoning',  'Alley', 'LotShape', \n",
    "            'LandContour',  'LotConfig', 'LandSlope', \n",
    "            'Neighborhood', 'Condition1', 'Condition2', 'BldgType', \n",
    "            'HouseStyle', 'OverallCond', 'YearBuilt', \n",
    "            'YearRemodAdd', 'RoofStyle', 'RoofMatl', 'Exterior1st', \n",
    "            'Exterior2nd', 'MasVnrType', 'ExterQual', 'ExterCond', \n",
    "            'Foundation', 'BsmtQual', 'BsmtCond', 'BsmtExposure', \n",
    "            'BsmtFinType1', 'BsmtFinType2', 'Heating', 'HeatingQC', \n",
    "            'CentralAir', 'Electrical', 'BsmtFullBath', 'BsmtHalfBath', \n",
    "            'FullBath', 'HalfBath', 'BedroomAbvGr', 'KitchenAbvGr', \n",
    "            'KitchenQual', 'TotRmsAbvGrd', 'Functional', 'Fireplaces', \n",
    "            'FireplaceQu', 'GarageType', 'GarageYrBlt', 'GarageFinish',\n",
    "            'GarageCars', 'GarageQual', 'GarageCond', 'PavedDrive', \n",
    "            'Fence', 'MiscFeature', 'MoSold', 'YrSold', \n",
    "            'SaleType', 'SaleCondition', 'haspool', 'has2ndfloor', \n",
    "            'hasgarage', 'hasbsmt', 'hasfireplace']"
   ]
  },
  {
   "cell_type": "code",
   "execution_count": 129,
   "metadata": {},
   "outputs": [],
   "source": [
    "for col in cat_cols:\n",
    "    td[col] = td[col].astype(str)"
   ]
  },
  {
   "cell_type": "code",
   "execution_count": 130,
   "metadata": {},
   "outputs": [
    {
     "name": "stdout",
     "output_type": "stream",
     "text": [
      "<class 'pandas.core.frame.DataFrame'>\n",
      "Int64Index: 2916 entries, 0 to 2918\n",
      "Data columns (total 82 columns):\n",
      "Id               2916 non-null int64\n",
      "MSSubClass       2916 non-null object\n",
      "MSZoning         2916 non-null object\n",
      "LotFrontage      2916 non-null float64\n",
      "LotArea          2916 non-null int64\n",
      "Alley            2916 non-null object\n",
      "LotShape         2916 non-null object\n",
      "LandContour      2916 non-null object\n",
      "LotConfig        2916 non-null object\n",
      "LandSlope        2916 non-null object\n",
      "Neighborhood     2916 non-null object\n",
      "Condition1       2916 non-null object\n",
      "Condition2       2916 non-null object\n",
      "BldgType         2916 non-null object\n",
      "HouseStyle       2916 non-null object\n",
      "OverallQual      2916 non-null object\n",
      "OverallCond      2916 non-null object\n",
      "YearBuilt        2916 non-null object\n",
      "YearRemodAdd     2916 non-null object\n",
      "RoofStyle        2916 non-null object\n",
      "RoofMatl         2916 non-null object\n",
      "Exterior1st      2916 non-null object\n",
      "Exterior2nd      2916 non-null object\n",
      "MasVnrType       2916 non-null object\n",
      "MasVnrArea       2916 non-null float64\n",
      "ExterQual        2916 non-null object\n",
      "ExterCond        2916 non-null object\n",
      "Foundation       2916 non-null object\n",
      "BsmtQual         2916 non-null object\n",
      "BsmtCond         2916 non-null object\n",
      "BsmtExposure     2916 non-null object\n",
      "BsmtFinType1     2916 non-null object\n",
      "BsmtFinSF1       2916 non-null float64\n",
      "BsmtFinType2     2916 non-null object\n",
      "BsmtFinSF2       2916 non-null float64\n",
      "BsmtUnfSF        2916 non-null float64\n",
      "TotalBsmtSF      2916 non-null float64\n",
      "Heating          2916 non-null object\n",
      "HeatingQC        2916 non-null object\n",
      "CentralAir       2916 non-null object\n",
      "Electrical       2916 non-null object\n",
      "1stFlrSF         2916 non-null int64\n",
      "2ndFlrSF         2916 non-null int64\n",
      "LowQualFinSF     2916 non-null int64\n",
      "GrLivArea        2916 non-null int64\n",
      "BsmtFullBath     2916 non-null object\n",
      "BsmtHalfBath     2916 non-null object\n",
      "FullBath         2916 non-null object\n",
      "HalfBath         2916 non-null object\n",
      "BedroomAbvGr     2916 non-null object\n",
      "KitchenAbvGr     2916 non-null object\n",
      "KitchenQual      2916 non-null object\n",
      "TotRmsAbvGrd     2916 non-null object\n",
      "Functional       2916 non-null object\n",
      "Fireplaces       2916 non-null object\n",
      "FireplaceQu      2916 non-null object\n",
      "GarageType       2916 non-null object\n",
      "GarageYrBlt      2916 non-null object\n",
      "GarageFinish     2916 non-null object\n",
      "GarageCars       2916 non-null object\n",
      "GarageArea       2916 non-null float64\n",
      "GarageQual       2916 non-null object\n",
      "GarageCond       2916 non-null object\n",
      "PavedDrive       2916 non-null object\n",
      "WoodDeckSF       2916 non-null int64\n",
      "OpenPorchSF      2916 non-null int64\n",
      "EnclosedPorch    2916 non-null int64\n",
      "3SsnPorch        2916 non-null int64\n",
      "ScreenPorch      2916 non-null int64\n",
      "PoolArea         2916 non-null int64\n",
      "Fence            2916 non-null object\n",
      "MiscFeature      2916 non-null object\n",
      "MiscVal          2916 non-null int64\n",
      "MoSold           2916 non-null object\n",
      "YrSold           2916 non-null object\n",
      "SaleType         2916 non-null object\n",
      "SaleCondition    2916 non-null object\n",
      "haspool          2916 non-null object\n",
      "has2ndfloor      2916 non-null object\n",
      "hasgarage        2916 non-null object\n",
      "hasbsmt          2916 non-null object\n",
      "hasfireplace     2916 non-null object\n",
      "dtypes: float64(7), int64(13), object(62)\n",
      "memory usage: 1.8+ MB\n"
     ]
    }
   ],
   "source": [
    "td.info()"
   ]
  },
  {
   "cell_type": "code",
   "execution_count": 131,
   "metadata": {},
   "outputs": [],
   "source": [
    "for col in td.columns:\n",
    "    if td[col].dtype == 'object':\n",
    "        td[col] = le.fit_transform(td[col])"
   ]
  },
  {
   "cell_type": "code",
   "execution_count": 132,
   "metadata": {},
   "outputs": [
    {
     "data": {
      "text/html": [
       "<div>\n",
       "<style scoped>\n",
       "    .dataframe tbody tr th:only-of-type {\n",
       "        vertical-align: middle;\n",
       "    }\n",
       "\n",
       "    .dataframe tbody tr th {\n",
       "        vertical-align: top;\n",
       "    }\n",
       "\n",
       "    .dataframe thead th {\n",
       "        text-align: right;\n",
       "    }\n",
       "</style>\n",
       "<table border=\"1\" class=\"dataframe\">\n",
       "  <thead>\n",
       "    <tr style=\"text-align: right;\">\n",
       "      <th></th>\n",
       "      <th>Id</th>\n",
       "      <th>MSSubClass</th>\n",
       "      <th>MSZoning</th>\n",
       "      <th>LotFrontage</th>\n",
       "      <th>LotArea</th>\n",
       "      <th>Alley</th>\n",
       "      <th>LotShape</th>\n",
       "      <th>LandContour</th>\n",
       "      <th>LotConfig</th>\n",
       "      <th>LandSlope</th>\n",
       "      <th>...</th>\n",
       "      <th>MiscVal</th>\n",
       "      <th>MoSold</th>\n",
       "      <th>YrSold</th>\n",
       "      <th>SaleType</th>\n",
       "      <th>SaleCondition</th>\n",
       "      <th>haspool</th>\n",
       "      <th>has2ndfloor</th>\n",
       "      <th>hasgarage</th>\n",
       "      <th>hasbsmt</th>\n",
       "      <th>hasfireplace</th>\n",
       "    </tr>\n",
       "  </thead>\n",
       "  <tbody>\n",
       "    <tr>\n",
       "      <td>0</td>\n",
       "      <td>1</td>\n",
       "      <td>10</td>\n",
       "      <td>3</td>\n",
       "      <td>65.0</td>\n",
       "      <td>8450</td>\n",
       "      <td>1</td>\n",
       "      <td>3</td>\n",
       "      <td>3</td>\n",
       "      <td>4</td>\n",
       "      <td>0</td>\n",
       "      <td>...</td>\n",
       "      <td>0</td>\n",
       "      <td>4</td>\n",
       "      <td>2</td>\n",
       "      <td>8</td>\n",
       "      <td>4</td>\n",
       "      <td>0</td>\n",
       "      <td>1</td>\n",
       "      <td>1</td>\n",
       "      <td>1</td>\n",
       "      <td>0</td>\n",
       "    </tr>\n",
       "    <tr>\n",
       "      <td>1</td>\n",
       "      <td>2</td>\n",
       "      <td>5</td>\n",
       "      <td>3</td>\n",
       "      <td>80.0</td>\n",
       "      <td>9600</td>\n",
       "      <td>1</td>\n",
       "      <td>3</td>\n",
       "      <td>3</td>\n",
       "      <td>2</td>\n",
       "      <td>0</td>\n",
       "      <td>...</td>\n",
       "      <td>0</td>\n",
       "      <td>7</td>\n",
       "      <td>1</td>\n",
       "      <td>8</td>\n",
       "      <td>4</td>\n",
       "      <td>0</td>\n",
       "      <td>0</td>\n",
       "      <td>1</td>\n",
       "      <td>1</td>\n",
       "      <td>1</td>\n",
       "    </tr>\n",
       "    <tr>\n",
       "      <td>2</td>\n",
       "      <td>3</td>\n",
       "      <td>10</td>\n",
       "      <td>3</td>\n",
       "      <td>68.0</td>\n",
       "      <td>11250</td>\n",
       "      <td>1</td>\n",
       "      <td>0</td>\n",
       "      <td>3</td>\n",
       "      <td>4</td>\n",
       "      <td>0</td>\n",
       "      <td>...</td>\n",
       "      <td>0</td>\n",
       "      <td>11</td>\n",
       "      <td>2</td>\n",
       "      <td>8</td>\n",
       "      <td>4</td>\n",
       "      <td>0</td>\n",
       "      <td>1</td>\n",
       "      <td>1</td>\n",
       "      <td>1</td>\n",
       "      <td>1</td>\n",
       "    </tr>\n",
       "    <tr>\n",
       "      <td>3</td>\n",
       "      <td>4</td>\n",
       "      <td>11</td>\n",
       "      <td>3</td>\n",
       "      <td>60.0</td>\n",
       "      <td>9550</td>\n",
       "      <td>1</td>\n",
       "      <td>0</td>\n",
       "      <td>3</td>\n",
       "      <td>0</td>\n",
       "      <td>0</td>\n",
       "      <td>...</td>\n",
       "      <td>0</td>\n",
       "      <td>4</td>\n",
       "      <td>0</td>\n",
       "      <td>8</td>\n",
       "      <td>0</td>\n",
       "      <td>0</td>\n",
       "      <td>1</td>\n",
       "      <td>1</td>\n",
       "      <td>1</td>\n",
       "      <td>1</td>\n",
       "    </tr>\n",
       "    <tr>\n",
       "      <td>4</td>\n",
       "      <td>5</td>\n",
       "      <td>10</td>\n",
       "      <td>3</td>\n",
       "      <td>84.0</td>\n",
       "      <td>14260</td>\n",
       "      <td>1</td>\n",
       "      <td>0</td>\n",
       "      <td>3</td>\n",
       "      <td>2</td>\n",
       "      <td>0</td>\n",
       "      <td>...</td>\n",
       "      <td>0</td>\n",
       "      <td>3</td>\n",
       "      <td>2</td>\n",
       "      <td>8</td>\n",
       "      <td>4</td>\n",
       "      <td>0</td>\n",
       "      <td>1</td>\n",
       "      <td>1</td>\n",
       "      <td>1</td>\n",
       "      <td>1</td>\n",
       "    </tr>\n",
       "  </tbody>\n",
       "</table>\n",
       "<p>5 rows × 82 columns</p>\n",
       "</div>"
      ],
      "text/plain": [
       "   Id  MSSubClass  MSZoning  LotFrontage  LotArea  Alley  LotShape  \\\n",
       "0   1          10         3         65.0     8450      1         3   \n",
       "1   2           5         3         80.0     9600      1         3   \n",
       "2   3          10         3         68.0    11250      1         0   \n",
       "3   4          11         3         60.0     9550      1         0   \n",
       "4   5          10         3         84.0    14260      1         0   \n",
       "\n",
       "   LandContour  LotConfig  LandSlope  ...  MiscVal  MoSold  YrSold  SaleType  \\\n",
       "0            3          4          0  ...        0       4       2         8   \n",
       "1            3          2          0  ...        0       7       1         8   \n",
       "2            3          4          0  ...        0      11       2         8   \n",
       "3            3          0          0  ...        0       4       0         8   \n",
       "4            3          2          0  ...        0       3       2         8   \n",
       "\n",
       "   SaleCondition  haspool  has2ndfloor  hasgarage  hasbsmt  hasfireplace  \n",
       "0              4        0            1          1        1             0  \n",
       "1              4        0            0          1        1             1  \n",
       "2              4        0            1          1        1             1  \n",
       "3              0        0            1          1        1             1  \n",
       "4              4        0            1          1        1             1  \n",
       "\n",
       "[5 rows x 82 columns]"
      ]
     },
     "execution_count": 132,
     "metadata": {},
     "output_type": "execute_result"
    }
   ],
   "source": [
    "td.head()"
   ]
  },
  {
   "cell_type": "code",
   "execution_count": 133,
   "metadata": {},
   "outputs": [
    {
     "data": {
      "text/plain": [
       "0"
      ]
     },
     "execution_count": 133,
     "metadata": {},
     "output_type": "execute_result"
    }
   ],
   "source": [
    "td.isna().sum().sum()"
   ]
  },
  {
   "cell_type": "code",
   "execution_count": 134,
   "metadata": {},
   "outputs": [],
   "source": [
    "# engineer less specific features\n",
    "td['YrBltAndRemod']=td['YearBuilt']+td['YearRemodAdd']\n",
    "td['TotalSF']=td['TotalBsmtSF'] + td['1stFlrSF'] + td['2ndFlrSF']\n",
    "\n",
    "td['Total_sqr_footage'] = (td['BsmtFinSF1'] + td['BsmtFinSF2'] +\n",
    "                                 td['1stFlrSF'] + td['2ndFlrSF'])\n",
    "\n",
    "td['Total_Bathrooms'] = (td['FullBath'] + (0.5 * td['HalfBath']) +\n",
    "                               td['BsmtFullBath'] + (0.5 * td['BsmtHalfBath']))\n",
    "\n",
    "td['Total_porch_sf'] = (td['OpenPorchSF'] + td['3SsnPorch'] +\n",
    "                              td['EnclosedPorch'] + td['ScreenPorch'] +\n",
    "                              td['WoodDeckSF'])"
   ]
  },
  {
   "cell_type": "markdown",
   "metadata": {},
   "source": [
    "###### 2.5. Transformation of Continuous Variables"
   ]
  },
  {
   "cell_type": "code",
   "execution_count": 135,
   "metadata": {},
   "outputs": [],
   "source": [
    "all_cols = train.columns.tolist()"
   ]
  },
  {
   "cell_type": "code",
   "execution_count": 136,
   "metadata": {},
   "outputs": [],
   "source": [
    "# investigate skewness\n",
    "from scipy.stats import skew\n",
    "\n",
    "all_cols = train.columns.tolist()\n",
    "all_cols.remove('Street')\n",
    "all_cols.remove('PoolQC')\n",
    "all_cols.remove('Utilities')\n",
    "all_cols.remove('GrLivArea')\n",
    "cont_cols = []\n",
    "\n",
    "for col in all_cols:\n",
    "    if col not in cat_cols:\n",
    "        cont_cols.append(col)\n",
    "cont_cols.remove('Id')\n",
    "cont_cols.remove('SalePrice')\n",
    "\n",
    "skewness = skew(td[cont_cols].astype('float64'))\n",
    "skeww = pd.DataFrame(zip(cont_cols, skewness)).set_index(0).sort_values(by = 1, ascending=False)"
   ]
  },
  {
   "cell_type": "code",
   "execution_count": 137,
   "metadata": {},
   "outputs": [
    {
     "data": {
      "text/html": [
       "<div>\n",
       "<style scoped>\n",
       "    .dataframe tbody tr th:only-of-type {\n",
       "        vertical-align: middle;\n",
       "    }\n",
       "\n",
       "    .dataframe tbody tr th {\n",
       "        vertical-align: top;\n",
       "    }\n",
       "\n",
       "    .dataframe thead th {\n",
       "        text-align: right;\n",
       "    }\n",
       "</style>\n",
       "<table border=\"1\" class=\"dataframe\">\n",
       "  <thead>\n",
       "    <tr style=\"text-align: right;\">\n",
       "      <th></th>\n",
       "      <th>1</th>\n",
       "    </tr>\n",
       "    <tr>\n",
       "      <th>0</th>\n",
       "      <th></th>\n",
       "    </tr>\n",
       "  </thead>\n",
       "  <tbody>\n",
       "    <tr>\n",
       "      <td>MiscVal</td>\n",
       "      <td>21.935910</td>\n",
       "    </tr>\n",
       "    <tr>\n",
       "      <td>PoolArea</td>\n",
       "      <td>17.685603</td>\n",
       "    </tr>\n",
       "    <tr>\n",
       "      <td>LowQualFinSF</td>\n",
       "      <td>12.082427</td>\n",
       "    </tr>\n",
       "    <tr>\n",
       "      <td>3SsnPorch</td>\n",
       "      <td>11.370087</td>\n",
       "    </tr>\n",
       "    <tr>\n",
       "      <td>LotArea</td>\n",
       "      <td>10.316318</td>\n",
       "    </tr>\n",
       "    <tr>\n",
       "      <td>BsmtFinSF2</td>\n",
       "      <td>4.160377</td>\n",
       "    </tr>\n",
       "    <tr>\n",
       "      <td>EnclosedPorch</td>\n",
       "      <td>4.001570</td>\n",
       "    </tr>\n",
       "    <tr>\n",
       "      <td>ScreenPorch</td>\n",
       "      <td>3.944305</td>\n",
       "    </tr>\n",
       "    <tr>\n",
       "      <td>MasVnrArea</td>\n",
       "      <td>2.616243</td>\n",
       "    </tr>\n",
       "    <tr>\n",
       "      <td>OpenPorchSF</td>\n",
       "      <td>2.538437</td>\n",
       "    </tr>\n",
       "    <tr>\n",
       "      <td>WoodDeckSF</td>\n",
       "      <td>1.842820</td>\n",
       "    </tr>\n",
       "    <tr>\n",
       "      <td>1stFlrSF</td>\n",
       "      <td>1.284192</td>\n",
       "    </tr>\n",
       "    <tr>\n",
       "      <td>GrLivArea</td>\n",
       "      <td>1.130556</td>\n",
       "    </tr>\n",
       "    <tr>\n",
       "      <td>BsmtFinSF1</td>\n",
       "      <td>0.992768</td>\n",
       "    </tr>\n",
       "    <tr>\n",
       "      <td>BsmtUnfSF</td>\n",
       "      <td>0.918274</td>\n",
       "    </tr>\n",
       "    <tr>\n",
       "      <td>2ndFlrSF</td>\n",
       "      <td>0.861869</td>\n",
       "    </tr>\n",
       "    <tr>\n",
       "      <td>TotalBsmtSF</td>\n",
       "      <td>0.696673</td>\n",
       "    </tr>\n",
       "    <tr>\n",
       "      <td>LotFrontage</td>\n",
       "      <td>0.629017</td>\n",
       "    </tr>\n",
       "    <tr>\n",
       "      <td>GarageArea</td>\n",
       "      <td>0.217207</td>\n",
       "    </tr>\n",
       "  </tbody>\n",
       "</table>\n",
       "</div>"
      ],
      "text/plain": [
       "                       1\n",
       "0                       \n",
       "MiscVal        21.935910\n",
       "PoolArea       17.685603\n",
       "LowQualFinSF   12.082427\n",
       "3SsnPorch      11.370087\n",
       "LotArea        10.316318\n",
       "BsmtFinSF2      4.160377\n",
       "EnclosedPorch   4.001570\n",
       "ScreenPorch     3.944305\n",
       "MasVnrArea      2.616243\n",
       "OpenPorchSF     2.538437\n",
       "WoodDeckSF      1.842820\n",
       "1stFlrSF        1.284192\n",
       "GrLivArea       1.130556\n",
       "BsmtFinSF1      0.992768\n",
       "BsmtUnfSF       0.918274\n",
       "2ndFlrSF        0.861869\n",
       "TotalBsmtSF     0.696673\n",
       "LotFrontage     0.629017\n",
       "GarageArea      0.217207"
      ]
     },
     "execution_count": 137,
     "metadata": {},
     "output_type": "execute_result"
    }
   ],
   "source": [
    "skeww"
   ]
  },
  {
   "cell_type": "code",
   "execution_count": 138,
   "metadata": {},
   "outputs": [
    {
     "data": {
      "text/plain": [
       "0"
      ]
     },
     "execution_count": 138,
     "metadata": {},
     "output_type": "execute_result"
    }
   ],
   "source": [
    "td.isna().sum().sum()"
   ]
  },
  {
   "cell_type": "code",
   "execution_count": 139,
   "metadata": {},
   "outputs": [
    {
     "data": {
      "text/plain": [
       "['MiscVal',\n",
       " 'PoolArea',\n",
       " 'LowQualFinSF',\n",
       " '3SsnPorch',\n",
       " 'LotArea',\n",
       " 'BsmtFinSF2',\n",
       " 'EnclosedPorch',\n",
       " 'ScreenPorch',\n",
       " 'MasVnrArea',\n",
       " 'OpenPorchSF',\n",
       " 'WoodDeckSF',\n",
       " '1stFlrSF',\n",
       " 'GrLivArea',\n",
       " 'BsmtFinSF1',\n",
       " 'BsmtUnfSF',\n",
       " '2ndFlrSF',\n",
       " 'TotalBsmtSF',\n",
       " 'LotFrontage']"
      ]
     },
     "execution_count": 139,
     "metadata": {},
     "output_type": "execute_result"
    }
   ],
   "source": [
    "# boxcox transform the skewed data\n",
    "predictors_trans = skeww[skeww[1]>0.5].index.tolist()\n",
    "predictors_trans"
   ]
  },
  {
   "cell_type": "code",
   "execution_count": 140,
   "metadata": {},
   "outputs": [],
   "source": [
    "from scipy.special import boxcox1p\n",
    "from scipy.stats import boxcox_normmax"
   ]
  },
  {
   "cell_type": "code",
   "execution_count": 141,
   "metadata": {},
   "outputs": [
    {
     "name": "stderr",
     "output_type": "stream",
     "text": [
      "/Users/mark/anaconda3/lib/python3.7/site-packages/scipy/stats/stats.py:3508: PearsonRConstantInputWarning: An input array is constant; the correlation coefficent is not defined.\n",
      "  warnings.warn(PearsonRConstantInputWarning())\n",
      "/Users/mark/anaconda3/lib/python3.7/site-packages/scipy/stats/stats.py:3538: PearsonRNearConstantInputWarning: An input array is nearly constant; the computed correlation coefficent may be inaccurate.\n",
      "  warnings.warn(PearsonRNearConstantInputWarning())\n"
     ]
    }
   ],
   "source": [
    "from scipy.special import boxcox1p\n",
    "for col in predictors_trans:\n",
    "    td[col] = boxcox1p(td[col], boxcox_normmax(td[col] + 1))"
   ]
  },
  {
   "cell_type": "code",
   "execution_count": 142,
   "metadata": {},
   "outputs": [
    {
     "data": {
      "text/plain": [
       "0"
      ]
     },
     "execution_count": 142,
     "metadata": {},
     "output_type": "execute_result"
    }
   ],
   "source": [
    "td.isna().sum().sum()"
   ]
  },
  {
   "cell_type": "code",
   "execution_count": 143,
   "metadata": {},
   "outputs": [
    {
     "name": "stdout",
     "output_type": "stream",
     "text": [
      "<class 'pandas.core.frame.DataFrame'>\n",
      "Int64Index: 2916 entries, 0 to 2918\n",
      "Data columns (total 87 columns):\n",
      "Id                   2916 non-null int64\n",
      "MSSubClass           2916 non-null int64\n",
      "MSZoning             2916 non-null int64\n",
      "LotFrontage          2916 non-null float64\n",
      "LotArea              2916 non-null float64\n",
      "Alley                2916 non-null int64\n",
      "LotShape             2916 non-null int64\n",
      "LandContour          2916 non-null int64\n",
      "LotConfig            2916 non-null int64\n",
      "LandSlope            2916 non-null int64\n",
      "Neighborhood         2916 non-null int64\n",
      "Condition1           2916 non-null int64\n",
      "Condition2           2916 non-null int64\n",
      "BldgType             2916 non-null int64\n",
      "HouseStyle           2916 non-null int64\n",
      "OverallQual          2916 non-null int64\n",
      "OverallCond          2916 non-null int64\n",
      "YearBuilt            2916 non-null int64\n",
      "YearRemodAdd         2916 non-null int64\n",
      "RoofStyle            2916 non-null int64\n",
      "RoofMatl             2916 non-null int64\n",
      "Exterior1st          2916 non-null int64\n",
      "Exterior2nd          2916 non-null int64\n",
      "MasVnrType           2916 non-null int64\n",
      "MasVnrArea           2916 non-null float64\n",
      "ExterQual            2916 non-null int64\n",
      "ExterCond            2916 non-null int64\n",
      "Foundation           2916 non-null int64\n",
      "BsmtQual             2916 non-null int64\n",
      "BsmtCond             2916 non-null int64\n",
      "BsmtExposure         2916 non-null int64\n",
      "BsmtFinType1         2916 non-null int64\n",
      "BsmtFinSF1           2916 non-null float64\n",
      "BsmtFinType2         2916 non-null int64\n",
      "BsmtFinSF2           2916 non-null float64\n",
      "BsmtUnfSF            2916 non-null float64\n",
      "TotalBsmtSF          2916 non-null float64\n",
      "Heating              2916 non-null int64\n",
      "HeatingQC            2916 non-null int64\n",
      "CentralAir           2916 non-null int64\n",
      "Electrical           2916 non-null int64\n",
      "1stFlrSF             2916 non-null float64\n",
      "2ndFlrSF             2916 non-null float64\n",
      "LowQualFinSF         2916 non-null float64\n",
      "GrLivArea            2916 non-null float64\n",
      "BsmtFullBath         2916 non-null int64\n",
      "BsmtHalfBath         2916 non-null int64\n",
      "FullBath             2916 non-null int64\n",
      "HalfBath             2916 non-null int64\n",
      "BedroomAbvGr         2916 non-null int64\n",
      "KitchenAbvGr         2916 non-null int64\n",
      "KitchenQual          2916 non-null int64\n",
      "TotRmsAbvGrd         2916 non-null int64\n",
      "Functional           2916 non-null int64\n",
      "Fireplaces           2916 non-null int64\n",
      "FireplaceQu          2916 non-null int64\n",
      "GarageType           2916 non-null int64\n",
      "GarageYrBlt          2916 non-null int64\n",
      "GarageFinish         2916 non-null int64\n",
      "GarageCars           2916 non-null int64\n",
      "GarageArea           2916 non-null float64\n",
      "GarageQual           2916 non-null int64\n",
      "GarageCond           2916 non-null int64\n",
      "PavedDrive           2916 non-null int64\n",
      "WoodDeckSF           2916 non-null float64\n",
      "OpenPorchSF          2916 non-null float64\n",
      "EnclosedPorch        2916 non-null float64\n",
      "3SsnPorch            2916 non-null float64\n",
      "ScreenPorch          2916 non-null float64\n",
      "PoolArea             2916 non-null float64\n",
      "Fence                2916 non-null int64\n",
      "MiscFeature          2916 non-null int64\n",
      "MiscVal              2916 non-null float64\n",
      "MoSold               2916 non-null int64\n",
      "YrSold               2916 non-null int64\n",
      "SaleType             2916 non-null int64\n",
      "SaleCondition        2916 non-null int64\n",
      "haspool              2916 non-null int64\n",
      "has2ndfloor          2916 non-null int64\n",
      "hasgarage            2916 non-null int64\n",
      "hasbsmt              2916 non-null int64\n",
      "hasfireplace         2916 non-null int64\n",
      "YrBltAndRemod        2916 non-null int64\n",
      "TotalSF              2916 non-null float64\n",
      "Total_sqr_footage    2916 non-null float64\n",
      "Total_Bathrooms      2916 non-null float64\n",
      "Total_porch_sf       2916 non-null int64\n",
      "dtypes: float64(22), int64(65)\n",
      "memory usage: 2.0 MB\n"
     ]
    }
   ],
   "source": [
    "td.info()"
   ]
  },
  {
   "cell_type": "code",
   "execution_count": 144,
   "metadata": {},
   "outputs": [],
   "source": [
    "for col in cat_cols:\n",
    "    td[col] = td[col].astype('object')"
   ]
  },
  {
   "cell_type": "code",
   "execution_count": 145,
   "metadata": {},
   "outputs": [
    {
     "name": "stdout",
     "output_type": "stream",
     "text": [
      "<class 'pandas.core.frame.DataFrame'>\n",
      "Int64Index: 2916 entries, 0 to 2918\n",
      "Data columns (total 87 columns):\n",
      "Id                   2916 non-null int64\n",
      "MSSubClass           2916 non-null object\n",
      "MSZoning             2916 non-null object\n",
      "LotFrontage          2916 non-null float64\n",
      "LotArea              2916 non-null float64\n",
      "Alley                2916 non-null object\n",
      "LotShape             2916 non-null object\n",
      "LandContour          2916 non-null object\n",
      "LotConfig            2916 non-null object\n",
      "LandSlope            2916 non-null object\n",
      "Neighborhood         2916 non-null object\n",
      "Condition1           2916 non-null object\n",
      "Condition2           2916 non-null object\n",
      "BldgType             2916 non-null object\n",
      "HouseStyle           2916 non-null object\n",
      "OverallQual          2916 non-null object\n",
      "OverallCond          2916 non-null object\n",
      "YearBuilt            2916 non-null object\n",
      "YearRemodAdd         2916 non-null object\n",
      "RoofStyle            2916 non-null object\n",
      "RoofMatl             2916 non-null object\n",
      "Exterior1st          2916 non-null object\n",
      "Exterior2nd          2916 non-null object\n",
      "MasVnrType           2916 non-null object\n",
      "MasVnrArea           2916 non-null float64\n",
      "ExterQual            2916 non-null object\n",
      "ExterCond            2916 non-null object\n",
      "Foundation           2916 non-null object\n",
      "BsmtQual             2916 non-null object\n",
      "BsmtCond             2916 non-null object\n",
      "BsmtExposure         2916 non-null object\n",
      "BsmtFinType1         2916 non-null object\n",
      "BsmtFinSF1           2916 non-null float64\n",
      "BsmtFinType2         2916 non-null object\n",
      "BsmtFinSF2           2916 non-null float64\n",
      "BsmtUnfSF            2916 non-null float64\n",
      "TotalBsmtSF          2916 non-null float64\n",
      "Heating              2916 non-null object\n",
      "HeatingQC            2916 non-null object\n",
      "CentralAir           2916 non-null object\n",
      "Electrical           2916 non-null object\n",
      "1stFlrSF             2916 non-null float64\n",
      "2ndFlrSF             2916 non-null float64\n",
      "LowQualFinSF         2916 non-null float64\n",
      "GrLivArea            2916 non-null float64\n",
      "BsmtFullBath         2916 non-null object\n",
      "BsmtHalfBath         2916 non-null object\n",
      "FullBath             2916 non-null object\n",
      "HalfBath             2916 non-null object\n",
      "BedroomAbvGr         2916 non-null object\n",
      "KitchenAbvGr         2916 non-null object\n",
      "KitchenQual          2916 non-null object\n",
      "TotRmsAbvGrd         2916 non-null object\n",
      "Functional           2916 non-null object\n",
      "Fireplaces           2916 non-null object\n",
      "FireplaceQu          2916 non-null object\n",
      "GarageType           2916 non-null object\n",
      "GarageYrBlt          2916 non-null object\n",
      "GarageFinish         2916 non-null object\n",
      "GarageCars           2916 non-null object\n",
      "GarageArea           2916 non-null float64\n",
      "GarageQual           2916 non-null object\n",
      "GarageCond           2916 non-null object\n",
      "PavedDrive           2916 non-null object\n",
      "WoodDeckSF           2916 non-null float64\n",
      "OpenPorchSF          2916 non-null float64\n",
      "EnclosedPorch        2916 non-null float64\n",
      "3SsnPorch            2916 non-null float64\n",
      "ScreenPorch          2916 non-null float64\n",
      "PoolArea             2916 non-null float64\n",
      "Fence                2916 non-null object\n",
      "MiscFeature          2916 non-null object\n",
      "MiscVal              2916 non-null float64\n",
      "MoSold               2916 non-null object\n",
      "YrSold               2916 non-null object\n",
      "SaleType             2916 non-null object\n",
      "SaleCondition        2916 non-null object\n",
      "haspool              2916 non-null object\n",
      "has2ndfloor          2916 non-null object\n",
      "hasgarage            2916 non-null object\n",
      "hasbsmt              2916 non-null object\n",
      "hasfireplace         2916 non-null object\n",
      "YrBltAndRemod        2916 non-null int64\n",
      "TotalSF              2916 non-null float64\n",
      "Total_sqr_footage    2916 non-null float64\n",
      "Total_Bathrooms      2916 non-null float64\n",
      "Total_porch_sf       2916 non-null int64\n",
      "dtypes: float64(22), int64(3), object(62)\n",
      "memory usage: 2.0+ MB\n"
     ]
    }
   ],
   "source": [
    "td.info()"
   ]
  },
  {
   "cell_type": "code",
   "execution_count": 146,
   "metadata": {},
   "outputs": [],
   "source": [
    "# transform y\n",
    "y = train.SalePrice\n"
   ]
  },
  {
   "cell_type": "code",
   "execution_count": 147,
   "metadata": {},
   "outputs": [
    {
     "data": {
      "text/plain": [
       "1.8876222564813563"
      ]
     },
     "execution_count": 147,
     "metadata": {},
     "output_type": "execute_result"
    }
   ],
   "source": [
    "skew(y)"
   ]
  },
  {
   "cell_type": "code",
   "execution_count": 148,
   "metadata": {},
   "outputs": [],
   "source": [
    "y = np.log1p(y)"
   ]
  },
  {
   "cell_type": "code",
   "execution_count": 149,
   "metadata": {},
   "outputs": [
    {
     "data": {
      "text/plain": [
       "0"
      ]
     },
     "execution_count": 149,
     "metadata": {},
     "output_type": "execute_result"
    }
   ],
   "source": [
    "y.isna().sum()"
   ]
  },
  {
   "cell_type": "code",
   "execution_count": 150,
   "metadata": {},
   "outputs": [
    {
     "data": {
      "text/plain": [
       "(2916, 87)"
      ]
     },
     "execution_count": 150,
     "metadata": {},
     "output_type": "execute_result"
    }
   ],
   "source": [
    "td.shape"
   ]
  },
  {
   "cell_type": "code",
   "execution_count": 176,
   "metadata": {},
   "outputs": [],
   "source": [
    "outliers = [30, 88, 462, 631, 1322]\n",
    "td = td.drop(td.index[outliers])\n",
    "y = y.drop(y.index[outliers])"
   ]
  },
  {
   "cell_type": "code",
   "execution_count": 174,
   "metadata": {},
   "outputs": [],
   "source": [
    "overfit = []\n",
    "for col in td.columns:\n",
    "    counts = td[col].value_counts()\n",
    "    zeros = counts.iloc[0]\n",
    "    if zeros / len(td) * 100 > 99.94:\n",
    "        overfit.append(i)\n",
    "\n",
    "overfit = list(overfit)\n",
    "overfit.append('MSZoning_C (all)')"
   ]
  },
  {
   "cell_type": "markdown",
   "metadata": {},
   "source": [
    "### 3. Run Models"
   ]
  },
  {
   "cell_type": "markdown",
   "metadata": {},
   "source": [
    "###### 3.1. Make training and testing data"
   ]
  },
  {
   "cell_type": "code",
   "execution_count": 177,
   "metadata": {},
   "outputs": [],
   "source": [
    "from sklearn.model_selection import train_test_split\n",
    "X = td.iloc[:1452, :]"
   ]
  },
  {
   "cell_type": "code",
   "execution_count": 178,
   "metadata": {},
   "outputs": [
    {
     "name": "stdout",
     "output_type": "stream",
     "text": [
      "<class 'pandas.core.frame.DataFrame'>\n",
      "Int64Index: 1452 entries, 0 to 1459\n",
      "Data columns (total 87 columns):\n",
      "Id                   1452 non-null int64\n",
      "MSSubClass           1452 non-null object\n",
      "MSZoning             1452 non-null object\n",
      "LotFrontage          1452 non-null float64\n",
      "LotArea              1452 non-null float64\n",
      "Alley                1452 non-null object\n",
      "LotShape             1452 non-null object\n",
      "LandContour          1452 non-null object\n",
      "LotConfig            1452 non-null object\n",
      "LandSlope            1452 non-null object\n",
      "Neighborhood         1452 non-null object\n",
      "Condition1           1452 non-null object\n",
      "Condition2           1452 non-null object\n",
      "BldgType             1452 non-null object\n",
      "HouseStyle           1452 non-null object\n",
      "OverallQual          1452 non-null object\n",
      "OverallCond          1452 non-null object\n",
      "YearBuilt            1452 non-null object\n",
      "YearRemodAdd         1452 non-null object\n",
      "RoofStyle            1452 non-null object\n",
      "RoofMatl             1452 non-null object\n",
      "Exterior1st          1452 non-null object\n",
      "Exterior2nd          1452 non-null object\n",
      "MasVnrType           1452 non-null object\n",
      "MasVnrArea           1452 non-null float64\n",
      "ExterQual            1452 non-null object\n",
      "ExterCond            1452 non-null object\n",
      "Foundation           1452 non-null object\n",
      "BsmtQual             1452 non-null object\n",
      "BsmtCond             1452 non-null object\n",
      "BsmtExposure         1452 non-null object\n",
      "BsmtFinType1         1452 non-null object\n",
      "BsmtFinSF1           1452 non-null float64\n",
      "BsmtFinType2         1452 non-null object\n",
      "BsmtFinSF2           1452 non-null float64\n",
      "BsmtUnfSF            1452 non-null float64\n",
      "TotalBsmtSF          1452 non-null float64\n",
      "Heating              1452 non-null object\n",
      "HeatingQC            1452 non-null object\n",
      "CentralAir           1452 non-null object\n",
      "Electrical           1452 non-null object\n",
      "1stFlrSF             1452 non-null float64\n",
      "2ndFlrSF             1452 non-null float64\n",
      "LowQualFinSF         1452 non-null float64\n",
      "GrLivArea            1452 non-null float64\n",
      "BsmtFullBath         1452 non-null object\n",
      "BsmtHalfBath         1452 non-null object\n",
      "FullBath             1452 non-null object\n",
      "HalfBath             1452 non-null object\n",
      "BedroomAbvGr         1452 non-null object\n",
      "KitchenAbvGr         1452 non-null object\n",
      "KitchenQual          1452 non-null object\n",
      "TotRmsAbvGrd         1452 non-null object\n",
      "Functional           1452 non-null object\n",
      "Fireplaces           1452 non-null object\n",
      "FireplaceQu          1452 non-null object\n",
      "GarageType           1452 non-null object\n",
      "GarageYrBlt          1452 non-null object\n",
      "GarageFinish         1452 non-null object\n",
      "GarageCars           1452 non-null object\n",
      "GarageArea           1452 non-null float64\n",
      "GarageQual           1452 non-null object\n",
      "GarageCond           1452 non-null object\n",
      "PavedDrive           1452 non-null object\n",
      "WoodDeckSF           1452 non-null float64\n",
      "OpenPorchSF          1452 non-null float64\n",
      "EnclosedPorch        1452 non-null float64\n",
      "3SsnPorch            1452 non-null float64\n",
      "ScreenPorch          1452 non-null float64\n",
      "PoolArea             1452 non-null float64\n",
      "Fence                1452 non-null object\n",
      "MiscFeature          1452 non-null object\n",
      "MiscVal              1452 non-null float64\n",
      "MoSold               1452 non-null object\n",
      "YrSold               1452 non-null object\n",
      "SaleType             1452 non-null object\n",
      "SaleCondition        1452 non-null object\n",
      "haspool              1452 non-null object\n",
      "has2ndfloor          1452 non-null object\n",
      "hasgarage            1452 non-null object\n",
      "hasbsmt              1452 non-null object\n",
      "hasfireplace         1452 non-null object\n",
      "YrBltAndRemod        1452 non-null int64\n",
      "TotalSF              1452 non-null float64\n",
      "Total_sqr_footage    1452 non-null float64\n",
      "Total_Bathrooms      1452 non-null float64\n",
      "Total_porch_sf       1452 non-null int64\n",
      "dtypes: float64(22), int64(3), object(62)\n",
      "memory usage: 998.2+ KB\n"
     ]
    }
   ],
   "source": [
    "X.info()"
   ]
  },
  {
   "cell_type": "code",
   "execution_count": 179,
   "metadata": {},
   "outputs": [],
   "source": [
    "X = X.drop('Id', axis=1)"
   ]
  },
  {
   "cell_type": "code",
   "execution_count": 180,
   "metadata": {},
   "outputs": [],
   "source": [
    "X_train, X_test, y_train, y_test = train_test_split(X, y, test_size=0.2, random_state=1040)"
   ]
  },
  {
   "cell_type": "code",
   "execution_count": 181,
   "metadata": {},
   "outputs": [],
   "source": [
    "X_as = X.copy(deep=True)\n",
    "for col in X_as:\n",
    "    X_as[col] = std.fit_transform(X_as[col].values.reshape(-1, 1))"
   ]
  },
  {
   "cell_type": "code",
   "execution_count": 182,
   "metadata": {},
   "outputs": [],
   "source": [
    "X_as_train, X_as_test, y_train, y_test = train_test_split(X_as, y, test_size=0.2, random_state=1040)"
   ]
  },
  {
   "cell_type": "code",
   "execution_count": 183,
   "metadata": {},
   "outputs": [
    {
     "name": "stdout",
     "output_type": "stream",
     "text": [
      "<class 'pandas.core.frame.DataFrame'>\n",
      "Int64Index: 1459 entries, 1460 to 2918\n",
      "Data columns (total 86 columns):\n",
      "MSSubClass           1459 non-null object\n",
      "MSZoning             1459 non-null object\n",
      "LotFrontage          1459 non-null float64\n",
      "LotArea              1459 non-null float64\n",
      "Alley                1459 non-null object\n",
      "LotShape             1459 non-null object\n",
      "LandContour          1459 non-null object\n",
      "LotConfig            1459 non-null object\n",
      "LandSlope            1459 non-null object\n",
      "Neighborhood         1459 non-null object\n",
      "Condition1           1459 non-null object\n",
      "Condition2           1459 non-null object\n",
      "BldgType             1459 non-null object\n",
      "HouseStyle           1459 non-null object\n",
      "OverallQual          1459 non-null object\n",
      "OverallCond          1459 non-null object\n",
      "YearBuilt            1459 non-null object\n",
      "YearRemodAdd         1459 non-null object\n",
      "RoofStyle            1459 non-null object\n",
      "RoofMatl             1459 non-null object\n",
      "Exterior1st          1459 non-null object\n",
      "Exterior2nd          1459 non-null object\n",
      "MasVnrType           1459 non-null object\n",
      "MasVnrArea           1459 non-null float64\n",
      "ExterQual            1459 non-null object\n",
      "ExterCond            1459 non-null object\n",
      "Foundation           1459 non-null object\n",
      "BsmtQual             1459 non-null object\n",
      "BsmtCond             1459 non-null object\n",
      "BsmtExposure         1459 non-null object\n",
      "BsmtFinType1         1459 non-null object\n",
      "BsmtFinSF1           1459 non-null float64\n",
      "BsmtFinType2         1459 non-null object\n",
      "BsmtFinSF2           1459 non-null float64\n",
      "BsmtUnfSF            1459 non-null float64\n",
      "TotalBsmtSF          1459 non-null float64\n",
      "Heating              1459 non-null object\n",
      "HeatingQC            1459 non-null object\n",
      "CentralAir           1459 non-null object\n",
      "Electrical           1459 non-null object\n",
      "1stFlrSF             1459 non-null float64\n",
      "2ndFlrSF             1459 non-null float64\n",
      "LowQualFinSF         1459 non-null float64\n",
      "GrLivArea            1459 non-null float64\n",
      "BsmtFullBath         1459 non-null object\n",
      "BsmtHalfBath         1459 non-null object\n",
      "FullBath             1459 non-null object\n",
      "HalfBath             1459 non-null object\n",
      "BedroomAbvGr         1459 non-null object\n",
      "KitchenAbvGr         1459 non-null object\n",
      "KitchenQual          1459 non-null object\n",
      "TotRmsAbvGrd         1459 non-null object\n",
      "Functional           1459 non-null object\n",
      "Fireplaces           1459 non-null object\n",
      "FireplaceQu          1459 non-null object\n",
      "GarageType           1459 non-null object\n",
      "GarageYrBlt          1459 non-null object\n",
      "GarageFinish         1459 non-null object\n",
      "GarageCars           1459 non-null object\n",
      "GarageArea           1459 non-null float64\n",
      "GarageQual           1459 non-null object\n",
      "GarageCond           1459 non-null object\n",
      "PavedDrive           1459 non-null object\n",
      "WoodDeckSF           1459 non-null float64\n",
      "OpenPorchSF          1459 non-null float64\n",
      "EnclosedPorch        1459 non-null float64\n",
      "3SsnPorch            1459 non-null float64\n",
      "ScreenPorch          1459 non-null float64\n",
      "PoolArea             1459 non-null float64\n",
      "Fence                1459 non-null object\n",
      "MiscFeature          1459 non-null object\n",
      "MiscVal              1459 non-null float64\n",
      "MoSold               1459 non-null object\n",
      "YrSold               1459 non-null object\n",
      "SaleType             1459 non-null object\n",
      "SaleCondition        1459 non-null object\n",
      "haspool              1459 non-null object\n",
      "has2ndfloor          1459 non-null object\n",
      "hasgarage            1459 non-null object\n",
      "hasbsmt              1459 non-null object\n",
      "hasfireplace         1459 non-null object\n",
      "YrBltAndRemod        1459 non-null int64\n",
      "TotalSF              1459 non-null float64\n",
      "Total_sqr_footage    1459 non-null float64\n",
      "Total_Bathrooms      1459 non-null float64\n",
      "Total_porch_sf       1459 non-null int64\n",
      "dtypes: float64(22), int64(2), object(62)\n",
      "memory usage: 991.7+ KB\n"
     ]
    }
   ],
   "source": [
    "X_final = td.iloc[1452:, :].drop('Id', axis=1)\n",
    "X_as_final = td.iloc[1452:, :].drop('Id', axis=1)\n",
    "for col in X_as_final:\n",
    "    X_as_final[col] = std.fit_transform(X_as_final[col].values.reshape(-1, 1))\n",
    "X_final.info()"
   ]
  },
  {
   "cell_type": "code",
   "execution_count": null,
   "metadata": {},
   "outputs": [],
   "source": []
  },
  {
   "cell_type": "markdown",
   "metadata": {},
   "source": [
    "###### 3.2. Base Models"
   ]
  },
  {
   "cell_type": "code",
   "execution_count": 304,
   "metadata": {},
   "outputs": [
    {
     "data": {
      "text/plain": [
       "0.008367008955629869"
      ]
     },
     "execution_count": 304,
     "metadata": {},
     "output_type": "execute_result"
    }
   ],
   "source": [
    "# gradient boost regressor\n",
    "from sklearn.metrics import mean_squared_log_error\n",
    "from sklearn.ensemble import GradientBoostingRegressor\n",
    "from sklearn.pipeline import make_pipeline\n",
    "from sklearn.preprocessing import RobustScaler\n",
    "gbr = GradientBoostingRegressor(n_estimators = 5000, loss='huber', learning_rate=0.02, max_features='sqrt', random_state=1040)\n",
    "gbr.fit(X_as_train, y_train)\n",
    "y_pred_gbr = gbr.predict(X_as_test)\n",
    "msle = mean_squared_log_error\n",
    "msle(y_test, y_pred_gbr)**0.5"
   ]
  },
  {
   "cell_type": "code",
   "execution_count": 302,
   "metadata": {},
   "outputs": [
    {
     "name": "stderr",
     "output_type": "stream",
     "text": [
      "/Users/mark/anaconda3/lib/python3.7/site-packages/xgboost/core.py:587: FutureWarning: Series.base is deprecated and will be removed in a future version\n",
      "  if getattr(data, 'base', None) is not None and \\\n"
     ]
    },
    {
     "data": {
      "text/plain": [
       "0.008550235712056688"
      ]
     },
     "execution_count": 302,
     "metadata": {},
     "output_type": "execute_result"
    }
   ],
   "source": [
    "# xgb\n",
    "import xgboost as xgb\n",
    "xgbr = xgb.XGBRegressor(learning_rate=0.02, subsample=0.6, max_depth=3,  reg_alpha=0.00006, objective='reg:squarederror', n_estimators=5000, seed = 1040, colsample_bytree=0.7, booster='gbtree', n_jobs=-1)\n",
    "xgbr.fit(X_as_train, y_train)\n",
    "y_pred_xgbr = xgbr.predict(X_as_test)\n",
    "msle(y_test, y_pred_xgbr)**0.5"
   ]
  },
  {
   "cell_type": "code",
   "execution_count": 186,
   "metadata": {},
   "outputs": [
    {
     "data": {
      "text/plain": [
       "0.009536301897939324"
      ]
     },
     "execution_count": 186,
     "metadata": {},
     "output_type": "execute_result"
    }
   ],
   "source": [
    "# lasso\n",
    "from sklearn.linear_model import Lasso\n",
    "lasso = make_pipeline(RobustScaler(), Lasso(alpha = 0.0035, normalize=False, max_iter=1000000))\n",
    "lasso.fit(X_as_train, y_train)\n",
    "y_pred_lasso = lasso.predict(X_as_test)\n",
    "msle(y_test, y_pred_lasso)**0.5"
   ]
  },
  {
   "cell_type": "code",
   "execution_count": 301,
   "metadata": {},
   "outputs": [
    {
     "data": {
      "text/plain": [
       "0.008887573827212298"
      ]
     },
     "execution_count": 301,
     "metadata": {},
     "output_type": "execute_result"
    }
   ],
   "source": [
    "# kernel ridge\n",
    "from sklearn.kernel_ridge import KernelRidge\n",
    "krr = make_pipeline(RobustScaler(), KernelRidge(alpha=3.7, kernel='polynomial', degree=2, coef0=4.1))\n",
    "krr.fit(X_as_train, y_train)\n",
    "y_pred_krr = krr.predict(X_as_test)\n",
    "msle(y_test, y_pred_krr)**0.5"
   ]
  },
  {
   "cell_type": "code",
   "execution_count": 351,
   "metadata": {},
   "outputs": [
    {
     "name": "stderr",
     "output_type": "stream",
     "text": [
      "/Users/mark/anaconda3/lib/python3.7/site-packages/sklearn/linear_model/coordinate_descent.py:471: ConvergenceWarning: Objective did not converge. You might want to increase the number of iterations. Duality gap: 0.029198925463511216, tolerance: 0.015470736673561147\n",
      "  tol, rng, random, positive)\n",
      "/Users/mark/anaconda3/lib/python3.7/site-packages/sklearn/linear_model/coordinate_descent.py:471: ConvergenceWarning: Objective did not converge. You might want to increase the number of iterations. Duality gap: 0.05337108394508405, tolerance: 0.015427358284173624\n",
      "  tol, rng, random, positive)\n",
      "/Users/mark/anaconda3/lib/python3.7/site-packages/sklearn/linear_model/coordinate_descent.py:471: ConvergenceWarning: Objective did not converge. You might want to increase the number of iterations. Duality gap: 0.026558039665300015, tolerance: 0.015910381520909674\n",
      "  tol, rng, random, positive)\n",
      "/Users/mark/anaconda3/lib/python3.7/site-packages/sklearn/linear_model/coordinate_descent.py:471: ConvergenceWarning: Objective did not converge. You might want to increase the number of iterations. Duality gap: 0.040228447840231496, tolerance: 0.015690124815907765\n",
      "  tol, rng, random, positive)\n",
      "/Users/mark/anaconda3/lib/python3.7/site-packages/sklearn/linear_model/coordinate_descent.py:471: ConvergenceWarning: Objective did not converge. You might want to increase the number of iterations. Duality gap: 0.027322105887170878, tolerance: 0.015677688779228403\n",
      "  tol, rng, random, positive)\n",
      "/Users/mark/anaconda3/lib/python3.7/site-packages/sklearn/linear_model/coordinate_descent.py:471: ConvergenceWarning: Objective did not converge. You might want to increase the number of iterations. Duality gap: 0.05049802878879639, tolerance: 0.015677688779228403\n",
      "  tol, rng, random, positive)\n",
      "/Users/mark/anaconda3/lib/python3.7/site-packages/sklearn/linear_model/coordinate_descent.py:471: ConvergenceWarning: Objective did not converge. You might want to increase the number of iterations. Duality gap: 0.03023382849475631, tolerance: 0.015470736673561147\n",
      "  tol, rng, random, positive)\n",
      "/Users/mark/anaconda3/lib/python3.7/site-packages/sklearn/linear_model/coordinate_descent.py:471: ConvergenceWarning: Objective did not converge. You might want to increase the number of iterations. Duality gap: 0.054864874209874515, tolerance: 0.015427358284173624\n",
      "  tol, rng, random, positive)\n",
      "/Users/mark/anaconda3/lib/python3.7/site-packages/sklearn/linear_model/coordinate_descent.py:471: ConvergenceWarning: Objective did not converge. You might want to increase the number of iterations. Duality gap: 0.027751269560127412, tolerance: 0.015910381520909674\n",
      "  tol, rng, random, positive)\n",
      "/Users/mark/anaconda3/lib/python3.7/site-packages/sklearn/linear_model/coordinate_descent.py:471: ConvergenceWarning: Objective did not converge. You might want to increase the number of iterations. Duality gap: 0.0529290657230721, tolerance: 0.015690124815907765\n",
      "  tol, rng, random, positive)\n",
      "/Users/mark/anaconda3/lib/python3.7/site-packages/sklearn/linear_model/coordinate_descent.py:471: ConvergenceWarning: Objective did not converge. You might want to increase the number of iterations. Duality gap: 0.02992648938100473, tolerance: 0.015677688779228403\n",
      "  tol, rng, random, positive)\n",
      "/Users/mark/anaconda3/lib/python3.7/site-packages/sklearn/linear_model/coordinate_descent.py:471: ConvergenceWarning: Objective did not converge. You might want to increase the number of iterations. Duality gap: 0.05098833778153811, tolerance: 0.015677688779228403\n",
      "  tol, rng, random, positive)\n",
      "/Users/mark/anaconda3/lib/python3.7/site-packages/sklearn/linear_model/coordinate_descent.py:471: ConvergenceWarning: Objective did not converge. You might want to increase the number of iterations. Duality gap: 0.030590277563284474, tolerance: 0.015470736673561147\n",
      "  tol, rng, random, positive)\n",
      "/Users/mark/anaconda3/lib/python3.7/site-packages/sklearn/linear_model/coordinate_descent.py:471: ConvergenceWarning: Objective did not converge. You might want to increase the number of iterations. Duality gap: 0.056270981608975035, tolerance: 0.015427358284173624\n",
      "  tol, rng, random, positive)\n",
      "/Users/mark/anaconda3/lib/python3.7/site-packages/sklearn/linear_model/coordinate_descent.py:471: ConvergenceWarning: Objective did not converge. You might want to increase the number of iterations. Duality gap: 0.028446795360530075, tolerance: 0.015910381520909674\n",
      "  tol, rng, random, positive)\n",
      "/Users/mark/anaconda3/lib/python3.7/site-packages/sklearn/linear_model/coordinate_descent.py:471: ConvergenceWarning: Objective did not converge. You might want to increase the number of iterations. Duality gap: 0.045380266001483704, tolerance: 0.015690124815907765\n",
      "  tol, rng, random, positive)\n",
      "/Users/mark/anaconda3/lib/python3.7/site-packages/sklearn/linear_model/coordinate_descent.py:471: ConvergenceWarning: Objective did not converge. You might want to increase the number of iterations. Duality gap: 0.026629754396612526, tolerance: 0.015677688779228403\n",
      "  tol, rng, random, positive)\n",
      "/Users/mark/anaconda3/lib/python3.7/site-packages/sklearn/linear_model/coordinate_descent.py:471: ConvergenceWarning: Objective did not converge. You might want to increase the number of iterations. Duality gap: 0.051510400989473126, tolerance: 0.015677688779228403\n",
      "  tol, rng, random, positive)\n",
      "/Users/mark/anaconda3/lib/python3.7/site-packages/sklearn/linear_model/coordinate_descent.py:471: ConvergenceWarning: Objective did not converge. You might want to increase the number of iterations. Duality gap: 0.031098160222910565, tolerance: 0.015470736673561147\n",
      "  tol, rng, random, positive)\n",
      "/Users/mark/anaconda3/lib/python3.7/site-packages/sklearn/linear_model/coordinate_descent.py:471: ConvergenceWarning: Objective did not converge. You might want to increase the number of iterations. Duality gap: 0.05757624984827814, tolerance: 0.015427358284173624\n",
      "  tol, rng, random, positive)\n",
      "/Users/mark/anaconda3/lib/python3.7/site-packages/sklearn/linear_model/coordinate_descent.py:471: ConvergenceWarning: Objective did not converge. You might want to increase the number of iterations. Duality gap: 0.029264886196280315, tolerance: 0.015910381520909674\n",
      "  tol, rng, random, positive)\n",
      "/Users/mark/anaconda3/lib/python3.7/site-packages/sklearn/linear_model/coordinate_descent.py:471: ConvergenceWarning: Objective did not converge. You might want to increase the number of iterations. Duality gap: 0.041348068230119495, tolerance: 0.015690124815907765\n",
      "  tol, rng, random, positive)\n",
      "/Users/mark/anaconda3/lib/python3.7/site-packages/sklearn/linear_model/coordinate_descent.py:471: ConvergenceWarning: Objective did not converge. You might want to increase the number of iterations. Duality gap: 0.01887630532582918, tolerance: 0.015677688779228403\n",
      "  tol, rng, random, positive)\n",
      "/Users/mark/anaconda3/lib/python3.7/site-packages/sklearn/linear_model/coordinate_descent.py:471: ConvergenceWarning: Objective did not converge. You might want to increase the number of iterations. Duality gap: 0.0316005033422222, tolerance: 0.015470736673561147\n",
      "  tol, rng, random, positive)\n",
      "/Users/mark/anaconda3/lib/python3.7/site-packages/sklearn/linear_model/coordinate_descent.py:471: ConvergenceWarning: Objective did not converge. You might want to increase the number of iterations. Duality gap: 0.05513553584858144, tolerance: 0.015427358284173624\n",
      "  tol, rng, random, positive)\n",
      "/Users/mark/anaconda3/lib/python3.7/site-packages/sklearn/linear_model/coordinate_descent.py:471: ConvergenceWarning: Objective did not converge. You might want to increase the number of iterations. Duality gap: 0.02998787889545973, tolerance: 0.015910381520909674\n",
      "  tol, rng, random, positive)\n",
      "/Users/mark/anaconda3/lib/python3.7/site-packages/sklearn/linear_model/coordinate_descent.py:471: ConvergenceWarning: Objective did not converge. You might want to increase the number of iterations. Duality gap: 0.03173834256510233, tolerance: 0.015470736673561147\n",
      "  tol, rng, random, positive)\n",
      "/Users/mark/anaconda3/lib/python3.7/site-packages/sklearn/linear_model/coordinate_descent.py:471: ConvergenceWarning: Objective did not converge. You might want to increase the number of iterations. Duality gap: 0.028445942444545125, tolerance: 0.015427358284173624\n",
      "  tol, rng, random, positive)\n",
      "/Users/mark/anaconda3/lib/python3.7/site-packages/sklearn/linear_model/coordinate_descent.py:471: ConvergenceWarning: Objective did not converge. You might want to increase the number of iterations. Duality gap: 0.030177218226874913, tolerance: 0.015910381520909674\n",
      "  tol, rng, random, positive)\n"
     ]
    },
    {
     "data": {
      "text/plain": [
       "0.009618167279297546"
      ]
     },
     "execution_count": 351,
     "metadata": {},
     "output_type": "execute_result"
    }
   ],
   "source": [
    "# elastic net\n",
    "from sklearn.linear_model import ElasticNetCV\n",
    "en = make_pipeline(RobustScaler(), ElasticNetCV(cv=kfolds, alphas=[0.0001, 0.0002, 0.0003, 0.0004, 0.0005, 0.0006, 0.0007],\n",
    "               l1_ratio=[0.8, 0.85, 0.9, 0.95, 0.99, 1]))\n",
    "en.fit(X_as_train, y_train)\n",
    "y_pred_en = en.predict(X_as_test)\n",
    "msle(y_test, y_pred_en)**0.5"
   ]
  },
  {
   "cell_type": "code",
   "execution_count": 350,
   "metadata": {},
   "outputs": [
    {
     "data": {
      "text/plain": [
       "0.008850544809039277"
      ]
     },
     "execution_count": 350,
     "metadata": {},
     "output_type": "execute_result"
    }
   ],
   "source": [
    "from sklearn.svm import SVR\n",
    "svr = make_pipeline(RobustScaler(), SVR(C= 20, epsilon= 0.008, gamma=0.0003))\n",
    "svr.fit(X_as_train, y_train)\n",
    "y_pred_svr = svr.predict(X_as_test)\n",
    "msle(y_test, y_pred_svr)**0.5"
   ]
  },
  {
   "cell_type": "code",
   "execution_count": 190,
   "metadata": {},
   "outputs": [],
   "source": [
    "# voting\n",
    "# from sklearn.ensemble import VotingRegressor\n",
    "# estimators=[('krr',krr), ('xgbr', xgbr), ('gbr', gbr), ('lasso', lasso),('stack', stack)]\n",
    "# vr = VotingRegressor(estimators=estimators,  n_jobs = -1)\n",
    "# vr.fit(X_as_train, y_train)\n",
    "# y_pred_vr = vr.predict(X_as_test)\n",
    "# msle(y_test, y_pred_vr)**0.5"
   ]
  },
  {
   "cell_type": "code",
   "execution_count": 306,
   "metadata": {},
   "outputs": [
    {
     "data": {
      "text/plain": [
       "0.008939753500388581"
      ]
     },
     "execution_count": 306,
     "metadata": {},
     "output_type": "execute_result"
    }
   ],
   "source": [
    "import lightgbm as lgb\n",
    "lgbm = lgb.LGBMRegressor(objective='regression', \n",
    "                                       num_leaves=4,\n",
    "                                       learning_rate=0.01, \n",
    "                                       n_estimators=5000,\n",
    "                                       max_bin=200, \n",
    "                                       bagging_fraction=0.6,\n",
    "                                       bagging_freq=1, \n",
    "                                       bagging_seed=7,\n",
    "                                       feature_fraction=0.2,\n",
    "                                       feature_fraction_seed=7,\n",
    "                                       verbose=-1,\n",
    "                                       )\n",
    "lgbm.fit(X_as_train, y_train)\n",
    "y_pred_lgbm = lgbm.predict(X_as_test)\n",
    "msle(y_test, y_pred_lgbm)**0.5"
   ]
  },
  {
   "cell_type": "code",
   "execution_count": 192,
   "metadata": {},
   "outputs": [
    {
     "data": {
      "text/plain": [
       "0.009999051656802278"
      ]
     },
     "execution_count": 192,
     "metadata": {},
     "output_type": "execute_result"
    }
   ],
   "source": [
    "from sklearn.ensemble import RandomForestRegressor\n",
    "rfr = RandomForestRegressor(n_estimators = 5000)\n",
    "rfr.fit(X_as_train, y_train)\n",
    "y_pred_rfr = rfr.predict(X_as_test)\n",
    "msle(y_test, y_pred_rfr)**0.5"
   ]
  },
  {
   "cell_type": "code",
   "execution_count": 344,
   "metadata": {},
   "outputs": [
    {
     "data": {
      "text/plain": [
       "0.0096199582138705"
      ]
     },
     "execution_count": 344,
     "metadata": {},
     "output_type": "execute_result"
    }
   ],
   "source": [
    "from sklearn.linear_model import RidgeCV\n",
    "from sklearn.model_selection import KFold\n",
    "kfolds = KFold(n_splits=10, shuffle=True)\n",
    "rr = RidgeCV(cv=kfolds, alphas=[14.5, 14.6, 14.7, 14.8, 14.9, 15, 15.1, 15.2, 15.3, 15.4, 15.5])\n",
    "rr.fit(X_as_train, y_train)\n",
    "y_pred_rr = rr.predict(X_as_test)\n",
    "msle(y_test, y_pred_rr)**0.5"
   ]
  },
  {
   "cell_type": "code",
   "execution_count": 352,
   "metadata": {},
   "outputs": [
    {
     "data": {
      "text/plain": [
       "0.007881383400959893"
      ]
     },
     "execution_count": 352,
     "metadata": {},
     "output_type": "execute_result"
    }
   ],
   "source": [
    "from mlxtend.regressor import StackingCVRegressor\n",
    "stack = StackingCVRegressor(regressors=(svr, gbr, xgbr, krr, lgbm),\n",
    "                                meta_regressor=gbr,\n",
    "                                use_features_in_secondary=True,\n",
    "                                n_jobs=-1)\n",
    "stack.fit(np.array(X_as_train), np.array(y_train))\n",
    "y_pred_stack = stack.predict(np.array(X_as_test))\n",
    "msle(y_test, y_pred_stack)**0.5"
   ]
  },
  {
   "cell_type": "code",
   "execution_count": 381,
   "metadata": {},
   "outputs": [
    {
     "data": {
      "text/plain": [
       "0.007890082817255197"
      ]
     },
     "execution_count": 381,
     "metadata": {},
     "output_type": "execute_result"
    }
   ],
   "source": [
    "def blend_models_predict(X):\n",
    "    return ((0.05 * svr.predict(X)) + \\\n",
    "            (0.05 * krr.predict(X)) + \\\n",
    "            (0.15 * gbr.predict(X)) + \\\n",
    "            (0.12 * xgbr.predict(X)) + \\\n",
    "            (0.08 * lgbm.predict(X)) + \\\n",
    "            (0.55 * stack.predict(np.array(X))))\n",
    "y_pred_blend = blend_models_predict(X_as_test)\n",
    "msle(y_test, y_pred_blend)**0.5\n"
   ]
  },
  {
   "cell_type": "code",
   "execution_count": 380,
   "metadata": {},
   "outputs": [
    {
     "data": {
      "text/plain": [
       "0.10249124153565022"
      ]
     },
     "execution_count": 380,
     "metadata": {},
     "output_type": "execute_result"
    }
   ],
   "source": [
    "y_test_norm = np.expm1(y_test)\n",
    "y_pred_blend_norm = np.expm1(y_pred_blend)\n",
    "y_pred_stack_norm = np.floor(np.expm1(y_pred_stack))\n",
    "msle(y_test_norm, y_pred_blend_norm)**0.5"
   ]
  },
  {
   "cell_type": "code",
   "execution_count": null,
   "metadata": {},
   "outputs": [],
   "source": []
  },
  {
   "cell_type": "code",
   "execution_count": null,
   "metadata": {},
   "outputs": [],
   "source": []
  },
  {
   "cell_type": "code",
   "execution_count": null,
   "metadata": {},
   "outputs": [],
   "source": []
  },
  {
   "cell_type": "code",
   "execution_count": null,
   "metadata": {},
   "outputs": [],
   "source": []
  },
  {
   "cell_type": "code",
   "execution_count": null,
   "metadata": {},
   "outputs": [],
   "source": []
  },
  {
   "cell_type": "code",
   "execution_count": null,
   "metadata": {},
   "outputs": [],
   "source": []
  },
  {
   "cell_type": "code",
   "execution_count": null,
   "metadata": {},
   "outputs": [],
   "source": []
  },
  {
   "cell_type": "code",
   "execution_count": null,
   "metadata": {},
   "outputs": [],
   "source": []
  },
  {
   "cell_type": "code",
   "execution_count": 396,
   "metadata": {},
   "outputs": [],
   "source": [
    "y_pred_logp1_final = gbr.predict(X_as_final)"
   ]
  },
  {
   "cell_type": "code",
   "execution_count": 397,
   "metadata": {},
   "outputs": [],
   "source": [
    "y_pred_final = np.floor(np.expm1(y_pred_logp1_final))"
   ]
  },
  {
   "cell_type": "code",
   "execution_count": 398,
   "metadata": {},
   "outputs": [],
   "source": [
    "submission = pd.DataFrame({'Id':td.iloc[1452:, :].Id, 'SalePrice':y_pred_final}).set_index('Id')"
   ]
  },
  {
   "cell_type": "code",
   "execution_count": 399,
   "metadata": {},
   "outputs": [
    {
     "data": {
      "text/html": [
       "<div>\n",
       "<style scoped>\n",
       "    .dataframe tbody tr th:only-of-type {\n",
       "        vertical-align: middle;\n",
       "    }\n",
       "\n",
       "    .dataframe tbody tr th {\n",
       "        vertical-align: top;\n",
       "    }\n",
       "\n",
       "    .dataframe thead th {\n",
       "        text-align: right;\n",
       "    }\n",
       "</style>\n",
       "<table border=\"1\" class=\"dataframe\">\n",
       "  <thead>\n",
       "    <tr style=\"text-align: right;\">\n",
       "      <th></th>\n",
       "      <th>SalePrice</th>\n",
       "    </tr>\n",
       "    <tr>\n",
       "      <th>Id</th>\n",
       "      <th></th>\n",
       "    </tr>\n",
       "  </thead>\n",
       "  <tbody>\n",
       "    <tr>\n",
       "      <td>1461</td>\n",
       "      <td>131342.0</td>\n",
       "    </tr>\n",
       "    <tr>\n",
       "      <td>1462</td>\n",
       "      <td>170489.0</td>\n",
       "    </tr>\n",
       "    <tr>\n",
       "      <td>1463</td>\n",
       "      <td>198911.0</td>\n",
       "    </tr>\n",
       "    <tr>\n",
       "      <td>1464</td>\n",
       "      <td>201631.0</td>\n",
       "    </tr>\n",
       "    <tr>\n",
       "      <td>1465</td>\n",
       "      <td>185191.0</td>\n",
       "    </tr>\n",
       "    <tr>\n",
       "      <td>...</td>\n",
       "      <td>...</td>\n",
       "    </tr>\n",
       "    <tr>\n",
       "      <td>2915</td>\n",
       "      <td>83864.0</td>\n",
       "    </tr>\n",
       "    <tr>\n",
       "      <td>2916</td>\n",
       "      <td>83191.0</td>\n",
       "    </tr>\n",
       "    <tr>\n",
       "      <td>2917</td>\n",
       "      <td>160022.0</td>\n",
       "    </tr>\n",
       "    <tr>\n",
       "      <td>2918</td>\n",
       "      <td>113745.0</td>\n",
       "    </tr>\n",
       "    <tr>\n",
       "      <td>2919</td>\n",
       "      <td>215513.0</td>\n",
       "    </tr>\n",
       "  </tbody>\n",
       "</table>\n",
       "<p>1459 rows × 1 columns</p>\n",
       "</div>"
      ],
      "text/plain": [
       "      SalePrice\n",
       "Id             \n",
       "1461   131342.0\n",
       "1462   170489.0\n",
       "1463   198911.0\n",
       "1464   201631.0\n",
       "1465   185191.0\n",
       "...         ...\n",
       "2915    83864.0\n",
       "2916    83191.0\n",
       "2917   160022.0\n",
       "2918   113745.0\n",
       "2919   215513.0\n",
       "\n",
       "[1459 rows x 1 columns]"
      ]
     },
     "execution_count": 399,
     "metadata": {},
     "output_type": "execute_result"
    }
   ],
   "source": [
    "submission"
   ]
  },
  {
   "cell_type": "code",
   "execution_count": 400,
   "metadata": {},
   "outputs": [],
   "source": [
    "# brute force handling of data points close to outer range\n",
    "# q1 = submission['SalePrice'].quantile(0.0045)\n",
    "# q2 = submission['SalePrice'].quantile(0.99)\n",
    "# submission['SalePrice'] = submission['SalePrice'].apply(lambda x: x if x > q1 else x*0.77)\n",
    "# submission['SalePrice'] = submission['SalePrice'].apply(lambda x: x if x < q2 else x*1.1)"
   ]
  },
  {
   "cell_type": "code",
   "execution_count": 401,
   "metadata": {},
   "outputs": [
    {
     "data": {
      "text/html": [
       "<div>\n",
       "<style scoped>\n",
       "    .dataframe tbody tr th:only-of-type {\n",
       "        vertical-align: middle;\n",
       "    }\n",
       "\n",
       "    .dataframe tbody tr th {\n",
       "        vertical-align: top;\n",
       "    }\n",
       "\n",
       "    .dataframe thead th {\n",
       "        text-align: right;\n",
       "    }\n",
       "</style>\n",
       "<table border=\"1\" class=\"dataframe\">\n",
       "  <thead>\n",
       "    <tr style=\"text-align: right;\">\n",
       "      <th></th>\n",
       "      <th>SalePrice</th>\n",
       "    </tr>\n",
       "    <tr>\n",
       "      <th>Id</th>\n",
       "      <th></th>\n",
       "    </tr>\n",
       "  </thead>\n",
       "  <tbody>\n",
       "    <tr>\n",
       "      <td>1461</td>\n",
       "      <td>131342.0</td>\n",
       "    </tr>\n",
       "    <tr>\n",
       "      <td>1462</td>\n",
       "      <td>170489.0</td>\n",
       "    </tr>\n",
       "    <tr>\n",
       "      <td>1463</td>\n",
       "      <td>198911.0</td>\n",
       "    </tr>\n",
       "    <tr>\n",
       "      <td>1464</td>\n",
       "      <td>201631.0</td>\n",
       "    </tr>\n",
       "    <tr>\n",
       "      <td>1465</td>\n",
       "      <td>185191.0</td>\n",
       "    </tr>\n",
       "    <tr>\n",
       "      <td>...</td>\n",
       "      <td>...</td>\n",
       "    </tr>\n",
       "    <tr>\n",
       "      <td>2915</td>\n",
       "      <td>83864.0</td>\n",
       "    </tr>\n",
       "    <tr>\n",
       "      <td>2916</td>\n",
       "      <td>83191.0</td>\n",
       "    </tr>\n",
       "    <tr>\n",
       "      <td>2917</td>\n",
       "      <td>160022.0</td>\n",
       "    </tr>\n",
       "    <tr>\n",
       "      <td>2918</td>\n",
       "      <td>113745.0</td>\n",
       "    </tr>\n",
       "    <tr>\n",
       "      <td>2919</td>\n",
       "      <td>215513.0</td>\n",
       "    </tr>\n",
       "  </tbody>\n",
       "</table>\n",
       "<p>1459 rows × 1 columns</p>\n",
       "</div>"
      ],
      "text/plain": [
       "      SalePrice\n",
       "Id             \n",
       "1461   131342.0\n",
       "1462   170489.0\n",
       "1463   198911.0\n",
       "1464   201631.0\n",
       "1465   185191.0\n",
       "...         ...\n",
       "2915    83864.0\n",
       "2916    83191.0\n",
       "2917   160022.0\n",
       "2918   113745.0\n",
       "2919   215513.0\n",
       "\n",
       "[1459 rows x 1 columns]"
      ]
     },
     "execution_count": 401,
     "metadata": {},
     "output_type": "execute_result"
    }
   ],
   "source": [
    "submission"
   ]
  },
  {
   "cell_type": "code",
   "execution_count": 402,
   "metadata": {},
   "outputs": [],
   "source": [
    "submission.to_csv('submission_houseprice.csv')"
   ]
  },
  {
   "cell_type": "code",
   "execution_count": null,
   "metadata": {},
   "outputs": [],
   "source": []
  }
 ],
 "metadata": {
  "kernelspec": {
   "display_name": "Python 3",
   "language": "python",
   "name": "python3"
  },
  "language_info": {
   "codemirror_mode": {
    "name": "ipython",
    "version": 3
   },
   "file_extension": ".py",
   "mimetype": "text/x-python",
   "name": "python",
   "nbconvert_exporter": "python",
   "pygments_lexer": "ipython3",
   "version": "3.7.3"
  }
 },
 "nbformat": 4,
 "nbformat_minor": 2
}
